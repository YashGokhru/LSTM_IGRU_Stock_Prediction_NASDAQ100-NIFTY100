{
 "cells": [
  {
   "cell_type": "code",
   "execution_count": 1,
   "id": "b5e803f2",
   "metadata": {
    "_cell_guid": "b1076dfc-b9ad-4769-8c92-a6c4dae69d19",
    "_uuid": "8f2839f25d086af736a60e9eeb907d3b93b6e0e5",
    "execution": {
     "iopub.execute_input": "2024-11-12T10:45:11.022923Z",
     "iopub.status.busy": "2024-11-12T10:45:11.022348Z",
     "iopub.status.idle": "2024-11-12T10:45:28.189111Z",
     "shell.execute_reply": "2024-11-12T10:45:28.187974Z"
    },
    "papermill": {
     "duration": 17.178951,
     "end_time": "2024-11-12T10:45:28.192073",
     "exception": false,
     "start_time": "2024-11-12T10:45:11.013122",
     "status": "completed"
    },
    "tags": []
   },
   "outputs": [],
   "source": [
    "import os\n",
    "import pandas\n",
    "import multiprocessing\n",
    "import numpy as np\n",
    "import pandas as pd\n",
    "import tensorflow as tf\n",
    "from tqdm import tqdm\n",
    "from collections import Counter\n",
    "import multiprocessing as mp\n",
    "import warnings\n",
    "\n",
    "warnings.filterwarnings(\"ignore\", category=DeprecationWarning)\n",
    "\n",
    "data_path = \"/kaggle/input/dataset/nd100_2018_2023_new_1.csv\"\n",
    "\n",
    "root_path = \"/kaggle/working/nasdaq100/\"\n",
    "gpu_id = \"-1\"\n",
    "stock_num = 87\n",
    "\n",
    "def process_daily_df_std(df, feature_cols):\n",
    "    df = df.copy()\n",
    "    for c in feature_cols:\n",
    "        df[c] = filter_extreme_3sigma(df[c])\n",
    "        df[c] = standardize_zscore(df[c])\n",
    "    return df\n",
    "\n",
    "\n",
    "def filter_extreme_3sigma(series, n=3):\n",
    "    mean = series.mean()\n",
    "    std = series.std()\n",
    "    max_range = mean + n * std\n",
    "    min_range = mean - n * std\n",
    "    return np.clip(series, min_range, max_range)\n",
    "\n",
    "\n",
    "def standardize_zscore(series):\n",
    "    std = series.std()\n",
    "    mean = series.mean()\n",
    "    return (series - mean) / std\n"
   ]
  },
  {
   "cell_type": "code",
   "execution_count": 2,
   "id": "2af4f853",
   "metadata": {
    "execution": {
     "iopub.execute_input": "2024-11-12T10:45:28.208746Z",
     "iopub.status.busy": "2024-11-12T10:45:28.207372Z",
     "iopub.status.idle": "2024-11-12T10:45:28.221928Z",
     "shell.execute_reply": "2024-11-12T10:45:28.220747Z"
    },
    "papermill": {
     "duration": 0.025472,
     "end_time": "2024-11-12T10:45:28.224707",
     "exception": false,
     "start_time": "2024-11-12T10:45:28.199235",
     "status": "completed"
    },
    "tags": []
   },
   "outputs": [],
   "source": [
    "def create_dataset(df, feature_cols, label_col, date_range, hist_len=60, num_cores=1):\n",
    "    df_group = df.groupby(\"kdcode\")\n",
    "    param_list = []\n",
    "    for kdcode in df_group.groups.keys():\n",
    "        df_comp = df_group.get_group(kdcode)\n",
    "        param_list.append((df_comp, feature_cols, label_col, hist_len, date_range))\n",
    "    print(\"# groups = \", len(param_list))\n",
    "    result = []\n",
    "    if num_cores > 1:\n",
    "        pool = multiprocessing.Pool(num_cores)\n",
    "        result = pool.starmap(generate_dataset, param_list)\n",
    "        pool.close()\n",
    "        pool.join()\n",
    "    else:\n",
    "        for params in param_list:\n",
    "            x = generate_dataset(*params);\n",
    "            result.append(x)\n",
    "\n",
    "    res = []\n",
    "    for x in result:\n",
    "      for y in x:\n",
    "        if(len(y) > 0):\n",
    "          res.append(y)\n",
    "\n",
    "    return res\n",
    "\n",
    "\n",
    "def generate_dataset(df_comp, feature_cols, label_col, hist_len, date_range):\n",
    "    ds = []\n",
    "    date_range = [pd.to_datetime(x) for x in date_range]\n",
    "    id_vals = df_comp.index.values\n",
    "    df_comp = df_comp.reset_index(drop=True)\n",
    "    dt_vals = df_comp[\"dt\"].values\n",
    "    feature_vals = df_comp[feature_cols].values\n",
    "    label_vals = df_comp[label_col].values\n",
    "    for idx, row in df_comp.iterrows():\n",
    "        dt = dt_vals[idx]\n",
    "        if idx < hist_len or dt < date_range[0] or dt > date_range[1]:\n",
    "            continue\n",
    "        else:\n",
    "            seq_features = feature_vals[idx + 1 - hist_len : idx + 1]\n",
    "            ds.append((id_vals[idx], seq_features, label_vals[idx]))\n",
    "    return ds\n"
   ]
  },
  {
   "cell_type": "code",
   "execution_count": 3,
   "id": "f459b26e",
   "metadata": {
    "execution": {
     "iopub.execute_input": "2024-11-12T10:45:28.239914Z",
     "iopub.status.busy": "2024-11-12T10:45:28.239453Z",
     "iopub.status.idle": "2024-11-12T10:45:28.247241Z",
     "shell.execute_reply": "2024-11-12T10:45:28.245906Z"
    },
    "papermill": {
     "duration": 0.018419,
     "end_time": "2024-11-12T10:45:28.249780",
     "exception": false,
     "start_time": "2024-11-12T10:45:28.231361",
     "status": "completed"
    },
    "tags": []
   },
   "outputs": [],
   "source": [
    "def rank_labeling(df, col_label=\"label\", col_return=\"t2_am-15m_return_rate\"):\n",
    "    df[col_label] = df[col_return].rank(ascending=True, pct=True)\n",
    "    return df\n",
    "\n",
    "\n",
    "def cosine_similarity(a, b):\n",
    "    dot_product = np.dot(a, b)\n",
    "    norm_a = np.linalg.norm(a)\n",
    "    norm_b = np.linalg.norm(b)\n",
    "    similarity = dot_product / (norm_a * norm_b)\n",
    "    return similarity\n"
   ]
  },
  {
   "cell_type": "code",
   "execution_count": 4,
   "id": "e7a1c055",
   "metadata": {
    "execution": {
     "iopub.execute_input": "2024-11-12T10:45:28.265401Z",
     "iopub.status.busy": "2024-11-12T10:45:28.264329Z",
     "iopub.status.idle": "2024-11-12T10:45:28.285587Z",
     "shell.execute_reply": "2024-11-12T10:45:28.284321Z"
    },
    "papermill": {
     "duration": 0.031885,
     "end_time": "2024-11-12T10:45:28.288190",
     "exception": false,
     "start_time": "2024-11-12T10:45:28.256305",
     "status": "completed"
    },
    "tags": []
   },
   "outputs": [],
   "source": [
    "def fun_similar(dts_all, df, dt_one):\n",
    "    df1 = df.copy()\n",
    "    dt_pred = dts_all[dts_all.index(dt_one) - 60]\n",
    "    df1 = df1.loc[df1[\"dt\"] >= str(dt_pred)]\n",
    "    df1 = df1.loc[df1[\"dt\"] <= str(dt_one)]\n",
    "    df2 = df1[[\"kdcode\", \"dt\", \"shouyi\"]]\n",
    "    df2 = df2.reset_index(drop=True)\n",
    "    df_grouped = df2.groupby(\"kdcode\")\n",
    "    df3 = pd.DataFrame()\n",
    "\n",
    "    data = {}\n",
    "    for kdcode, group in df_grouped:\n",
    "        data[kdcode] = group[\"shouyi\"].reset_index(drop=True)\n",
    "    df3 = pd.DataFrame(data).fillna(0.0)\n",
    "    df3_T = df3.T.values\n",
    "\n",
    "    similarities = np.zeros((len(df3_T), len(df3_T)))\n",
    "    for i in range(len(df3_T)):\n",
    "        for j in range(len(df3_T)):\n",
    "            similarities[i, j] = (cosine_similarity(df3_T[i], df3_T[j]) + 1) / 2\n",
    "    similarities = pd.DataFrame(similarities)\n",
    "    similarities[similarities < 0.5] = 0\n",
    "    df5 = similarities.values.tolist()\n",
    "    return df5\n",
    "\n",
    "\n",
    "def process_row(\n",
    "    i,\n",
    "    stock_choose,\n",
    "    df1_sw_kdcode_1_list,\n",
    "    df1_sw_kdcode_2_list,\n",
    "    dict_kdcode_sw_kdcode_2_1,\n",
    "    dict_kdcode_sw_kdcode_st_2,\n",
    "):\n",
    "    one = []\n",
    "    for j in range(len(stock_choose)):\n",
    "        if stock_choose[i] in df1_sw_kdcode_1_list:\n",
    "            if stock_choose[j] in df1_sw_kdcode_1_list:\n",
    "                one.append(1)\n",
    "            elif stock_choose[j] in df1_sw_kdcode_2_list:\n",
    "                if stock_choose[i] == dict_kdcode_sw_kdcode_2_1[stock_choose[j]]:\n",
    "                    one.append(1)\n",
    "                else:\n",
    "                    one.append(0)\n",
    "            else:\n",
    "                one.append(0)\n",
    "        elif stock_choose[i] in df1_sw_kdcode_2_list:\n",
    "            if stock_choose[j] in df1_sw_kdcode_1_list:\n",
    "                if stock_choose[j] == dict_kdcode_sw_kdcode_2_1[stock_choose[i]]:\n",
    "                    one.append(1)\n",
    "                else:\n",
    "                    one.append(0)\n",
    "            elif stock_choose[j] in df1_sw_kdcode_2_list:\n",
    "                if (\n",
    "                    dict_kdcode_sw_kdcode_2_1[stock_choose[i]]\n",
    "                    == dict_kdcode_sw_kdcode_2_1[stock_choose[j]]\n",
    "                ):\n",
    "                    one.append(1)\n",
    "                else:\n",
    "                    one.append(0)\n",
    "            else:\n",
    "                if stock_choose[i] == dict_kdcode_sw_kdcode_st_2[stock_choose[j]]:\n",
    "                    one.append(1)\n",
    "                else:\n",
    "                    one.append(0)\n",
    "        else:\n",
    "            if stock_choose[j] in df1_sw_kdcode_1_list:\n",
    "                one.append(0)\n",
    "            elif stock_choose[j] in df1_sw_kdcode_2_list:\n",
    "                if stock_choose[j] == dict_kdcode_sw_kdcode_st_2[stock_choose[i]]:\n",
    "                    one.append(1)\n",
    "                else:\n",
    "                    one.append(0)\n",
    "            else:\n",
    "                if (\n",
    "                    dict_kdcode_sw_kdcode_st_2[stock_choose[i]]\n",
    "                    == dict_kdcode_sw_kdcode_st_2[stock_choose[j]]\n",
    "                ):\n",
    "                    one.append(1)\n",
    "                else:\n",
    "                    one.append(0)\n",
    "        pass\n",
    "    return one"
   ]
  },
  {
   "cell_type": "code",
   "execution_count": 5,
   "id": "60dd7ac4",
   "metadata": {
    "execution": {
     "iopub.execute_input": "2024-11-12T10:45:28.304058Z",
     "iopub.status.busy": "2024-11-12T10:45:28.303612Z",
     "iopub.status.idle": "2024-11-12T10:45:28.426801Z",
     "shell.execute_reply": "2024-11-12T10:45:28.425491Z"
    },
    "papermill": {
     "duration": 0.134953,
     "end_time": "2024-11-12T10:45:28.429824",
     "exception": false,
     "start_time": "2024-11-12T10:45:28.294871",
     "status": "completed"
    },
    "tags": []
   },
   "outputs": [],
   "source": [
    "class GCGRU(tf.keras.Model):\n",
    "    def __init__(\n",
    "        self,\n",
    "        N,\n",
    "        F,\n",
    "        P,\n",
    "        Units_GCN,\n",
    "        Units_GRU,\n",
    "        Units_FC,\n",
    "        Fixed_Matrices,\n",
    "        Matrix_Weights,\n",
    "        Is_Dyn,\n",
    "        kernel_initializer=\"glorot_uniform\",\n",
    "        bias_initializer=\"zeros\",\n",
    "    ):\n",
    "        super(GCGRU, self).__init__()\n",
    "        self.N = N\n",
    "        self.F = F\n",
    "        self.P = P\n",
    "        self.mat = Fixed_Matrices\n",
    "\n",
    "        coe = tf.Variable(1.0, trainable=True)\n",
    "        self.mats = Matrix_Weights[0] * self.mat[0] * coe\n",
    "        self.units_gcn = Units_GCN\n",
    "        self.w_gcn = []\n",
    "        self.b_gcn = []\n",
    "        pre = self.F\n",
    "\n",
    "        for i in range(len(self.units_gcn)):\n",
    "            aft = self.units_gcn[i]\n",
    "            w = self.add_weight(\n",
    "                name=\"w_GCN\",\n",
    "                shape=(pre, aft),\n",
    "                initializer=tf.keras.initializers.get(kernel_initializer),\n",
    "                trainable=True,\n",
    "            )\n",
    "            self.w_gcn.append(w)\n",
    "            b = self.add_weight(\n",
    "                name = \"b_GCN\",\n",
    "                shape=(aft,),\n",
    "                initializer=tf.keras.initializers.get(bias_initializer),\n",
    "                trainable=True,\n",
    "            )\n",
    "            self.b_gcn.append(b)\n",
    "            pre = aft\n",
    "\n",
    "        self.units_gcn_1 = Units_GCN\n",
    "        self.w_gcn_1 = []\n",
    "        self.b_gcn_1 = []\n",
    "        pre_1 = self.F\n",
    "\n",
    "        for i in range(len(self.units_gcn_1)):\n",
    "            aft_1 = self.units_gcn_1[i]\n",
    "            w_1 = self.add_weight(\n",
    "                name=\"w_GCN_1\",\n",
    "                shape=(pre_1, aft_1),\n",
    "                initializer=tf.keras.initializers.get(kernel_initializer),\n",
    "                trainable=True,\n",
    "            )\n",
    "            self.w_gcn_1.append(w_1)\n",
    "            b_1 = self.add_weight(\n",
    "                name = \"b_GCN_1\",\n",
    "                shape=(aft_1,),\n",
    "                initializer=tf.keras.initializers.get(bias_initializer),\n",
    "                trainable=True,\n",
    "            )\n",
    "            self.b_gcn_1.append(b_1)\n",
    "            pre_1 = aft_1\n",
    "\n",
    "        self.units_gru = Units_GRU\n",
    "        self.w_gru = []\n",
    "        self.b_gru = []\n",
    "        C = self.units_gcn[-1]\n",
    "        F = self.F\n",
    "\n",
    "        for i in range(len(self.units_gru) - 1):\n",
    "            H = self.units_gru[i]\n",
    "            pre = F + C + C + H\n",
    "            aft = H\n",
    "\n",
    "            for j in range(3):\n",
    "                w = self.add_weight(\n",
    "                    name=\"w_GRU\",\n",
    "                    shape=(pre, aft),\n",
    "                    initializer=tf.keras.initializers.get(kernel_initializer),\n",
    "                    trainable=True,\n",
    "                )\n",
    "                self.w_gru.append(w)\n",
    "                b = self.add_weight(\n",
    "                    name=\"b_GRU\",\n",
    "                    shape=(aft,),\n",
    "                    initializer=tf.keras.initializers.get(bias_initializer),\n",
    "                    trainable=True,\n",
    "                )\n",
    "                self.b_gru.append(b)\n",
    "            F = aft\n",
    "\n",
    "        H = self.units_gru[-2]\n",
    "        G = self.units_gru[-1]\n",
    "        w = self.add_weight(\n",
    "            name=\"w_GRU\",\n",
    "            shape=(H, G),\n",
    "            initializer=tf.keras.initializers.get(kernel_initializer),\n",
    "            trainable=True,\n",
    "        )\n",
    "        self.w_gru.append(w)\n",
    "        b = self.add_weight(\n",
    "            name=\"b_GRU\",\n",
    "            shape=(G,),\n",
    "            initializer=tf.keras.initializers.get(bias_initializer),\n",
    "            trainable=True,\n",
    "        )\n",
    "        self.b_gru.append(b)\n",
    "\n",
    "        self.units_fc = Units_FC\n",
    "        self.w_fc = []\n",
    "        self.b_fc = []\n",
    "        pre = G\n",
    "        for i in range(len(self.units_fc)):\n",
    "            aft = self.units_fc[i]\n",
    "            w = self.add_weight(\n",
    "                name=\"w_FC\",\n",
    "                shape=(pre, aft),\n",
    "                initializer=tf.keras.initializers.get(kernel_initializer),\n",
    "                trainable=True,\n",
    "            )\n",
    "            self.w_fc.append(w)\n",
    "            b = self.add_weight(\n",
    "                name=\"b_FC\",\n",
    "                shape=(aft,),\n",
    "                initializer=tf.keras.initializers.get(bias_initializer),\n",
    "                trainable=True,\n",
    "            )\n",
    "            self.b_fc.append(b)\n",
    "            pre = aft\n",
    "\n",
    "    def Multi_GCN(self, inputs):\n",
    "        P = inputs.shape[1]\n",
    "        x_gcn = []\n",
    "\n",
    "        for t in range(P):\n",
    "            xt_gcn = inputs[:, t, :, :]\n",
    "            for i in range(len(self.units_gcn)):\n",
    "                xt_gcn = self.mats @ xt_gcn @ self.w_gcn[i] + self.b_gcn[i]\n",
    "                xt_gcn = tf.nn.tanh(xt_gcn)\n",
    "\n",
    "            x_gcn.append(xt_gcn)\n",
    "        x_gcn = tf.stack(x_gcn, axis=1)\n",
    "        return x_gcn\n",
    "\n",
    "    def Multi_GCN_1(self, inputs, inputs_matrx):\n",
    "        P = inputs.shape[1]\n",
    "        x_gcn = []\n",
    "\n",
    "        for t in range(P):\n",
    "            xt_gcn = inputs[:, t, :, :]\n",
    "            inputs_matrx_all = inputs_matrx[:, t, :, :]\n",
    "            for i in range(len(self.units_gcn_1)):\n",
    "                xt_gcn = (\n",
    "                    inputs_matrx_all[t] @ xt_gcn @ self.w_gcn_1[i] + self.b_gcn_1[i]\n",
    "                )\n",
    "                xt_gcn = tf.nn.tanh(xt_gcn)\n",
    "\n",
    "            x_gcn.append(xt_gcn)\n",
    "        x_gcn = tf.stack(x_gcn, axis=1)\n",
    "        return x_gcn\n",
    "\n",
    "    def GRU(self, x, x_gcn, x_gcn_1):\n",
    "        h_gru = []\n",
    "        for i in range(len(self.units_gru) - 1):\n",
    "            H = self.units_gru[i]\n",
    "            h = tf.zeros_like(x[:, 0, :, :], dtype=tf.float32) @ tf.zeros([self.F, H])\n",
    "            h_gru.append(h)\n",
    "\n",
    "        for t in range(self.P):\n",
    "            xt_gcn = x_gcn[:, t, :, :]\n",
    "            xt_gcn_1 = x_gcn_1[:, t, :, :]\n",
    "            xt = x[:, t, :, :]\n",
    "\n",
    "            for i in range(len(h_gru)):\n",
    "                ht_1 = h_gru[i]\n",
    "                x_tgh = tf.concat([xt, xt_gcn, xt_gcn_1, ht_1], axis=2)\n",
    "                ut = tf.nn.sigmoid(\n",
    "                    x_tgh @ self.w_gru[3 * i + 0] + self.b_gru[3 * i + 0]\n",
    "                )\n",
    "                rt = tf.nn.sigmoid(\n",
    "                    x_tgh @ self.w_gru[3 * i + 1] + self.b_gru[3 * i + 1]\n",
    "                )\n",
    "                x_tghr = tf.concat(\n",
    "                    [xt, xt_gcn, xt_gcn_1, tf.multiply(rt, ht_1)], axis=2\n",
    "                )\n",
    "                ct = tf.nn.tanh(x_tghr @ self.w_gru[3 * i + 2] + self.b_gru[3 * i + 2])\n",
    "                ht = tf.multiply(ut, ht_1) + tf.multiply((1 - ut), ct)\n",
    "                xt = ht\n",
    "                h_gru[i] = ht\n",
    "        x_gru = tf.nn.sigmoid(ht @ self.w_gru[-1] + self.b_gru[-1])\n",
    "        return x_gru\n",
    "\n",
    "    def FC(self, x_gru):\n",
    "        x = x_gru\n",
    "        for i in range(len(self.w_fc)):\n",
    "            x = x @ self.w_fc[i] + self.b_fc[i]\n",
    "            x = tf.nn.sigmoid(x)\n",
    "        x_fc = tf.squeeze(x, axis=-1)\n",
    "        return x_fc\n",
    "\n",
    "    def build(self, input_shape):\n",
    "        super().build(input_shape)\n",
    "\n",
    "    def call(self, inputs):\n",
    "        inputs_train = inputs[0]\n",
    "        inputs_matrx = inputs[1]\n",
    "        x_gcn = self.Multi_GCN(inputs_train)\n",
    "        x_gcn_1 = self.Multi_GCN_1(inputs_train, inputs_matrx)\n",
    "        x_gru = self.GRU(inputs_train, x_gcn, x_gcn_1)\n",
    "        x_fc = self.FC(x_gru)\n",
    "        return x_fc\n",
    "\n"
   ]
  },
  {
   "cell_type": "code",
   "execution_count": 6,
   "id": "b16dca60",
   "metadata": {
    "execution": {
     "iopub.execute_input": "2024-11-12T10:45:28.452135Z",
     "iopub.status.busy": "2024-11-12T10:45:28.451391Z",
     "iopub.status.idle": "2024-11-12T10:45:28.689941Z",
     "shell.execute_reply": "2024-11-12T10:45:28.688859Z"
    },
    "papermill": {
     "duration": 0.256397,
     "end_time": "2024-11-12T10:45:28.692815",
     "exception": false,
     "start_time": "2024-11-12T10:45:28.436418",
     "status": "completed"
    },
    "tags": []
   },
   "outputs": [],
   "source": [
    "class StockrnnBasicModel(object):\n",
    "    def __init__(\n",
    "        self,\n",
    "        model_dt=\"2022-12-31\",\n",
    "        CUDA_VISIBLE_DEVICES=gpu_id,\n",
    "        root_data_path=root_path,\n",
    "        T=20,\n",
    "        train_his=10,\n",
    "        epoches_list=[3, 4, 5, 6, 7],\n",
    "        P=10,\n",
    "        Is_Dyn=False,\n",
    "        Units_GCN=[50, 40],\n",
    "        Units_GRU=[30, 20],\n",
    "        Units_FC=[10, 1],\n",
    "        number_of_models=10,\n",
    "        model_data_path=root_path,\n",
    "        batch_size=16,\n",
    "    ):\n",
    "\n",
    "        os.environ[\"CUDA_DEVICE_ORDER\"] = \"PCI_BUS_ID\"\n",
    "        os.environ[\"CUDA_VISIBLE_DEVICES\"] = CUDA_VISIBLE_DEVICES\n",
    "\n",
    "        self.T = T\n",
    "        self.train_his = train_his\n",
    "        self.epoches_list = epoches_list\n",
    "        self.P = P\n",
    "        self.Is_Dyn = Is_Dyn\n",
    "        self.Units_GCN = Units_GCN\n",
    "        self.Units_GRU = Units_GRU\n",
    "        self.Units_FC = Units_FC\n",
    "        self.number_of_models = number_of_models\n",
    "        self.model_data_path = model_data_path\n",
    "        self.batch_size = batch_size\n",
    "        self.col_return = \"t{}_close_return_rate\".format(self.T)\n",
    "        self.col_label_train = \"t{}_label\".format(self.T)\n",
    "        self.vwap_col = \"close\"\n",
    "        self.model_name = \"stockrnn_basic_model\"\n",
    "        self._model_file_format_str = \"{}-{}.h5\"\n",
    "        self.root_data_path = root_data_path\n",
    "\n",
    "        if not os.path.exists(self.root_data_path):\n",
    "            os.mkdir(self.root_data_path)\n",
    "\n",
    "        self.train_model_folder = os.path.join(self.root_data_path, \"models\")\n",
    "        self.train_model_folder = self.train_model_folder.replace(\n",
    "            \"/models\", \"/sub_model_data/stockrnn-basic-model-n0/models\"\n",
    "        )\n",
    "\n",
    "        if not os.path.exists(self.train_model_folder):\n",
    "            os.makedirs(self.train_model_folder)\n",
    "\n",
    "        for i in range(self.number_of_models[0], self.number_of_models[-1]):\n",
    "            path = self.train_model_folder.replace(\"-model-n0\", \"-model-n\" + str(i))\n",
    "            if not os.path.exists(path):\n",
    "                os.makedirs(path)\n",
    "\n",
    "        self.model_dt = model_dt\n",
    "        self.model_file_path = os.path.join(\n",
    "            self.train_model_folder,\n",
    "            self._model_file_format_str.format(self.model_name, self.model_dt),\n",
    "        )\n",
    "\n",
    "        self.predict_folder_path = os.path.join(self.root_data_path, \"prediction\")\n",
    "        if not os.path.exists(self.predict_folder_path):\n",
    "            os.makedirs(self.predict_folder_path)\n",
    "        self.predict_folder_path_last = self.predict_folder_path + \"/\"\n",
    "        self.predict_folder_path = self.predict_folder_path.replace(\n",
    "            \"prediction\", \"sub_model_data/stockrnn-basic-model-n0/prediction\"\n",
    "        )\n",
    "\n",
    "        for i in range(self.number_of_models[0], self.number_of_models[-1]):\n",
    "            path = self.predict_folder_path.replace(\"-model-n0\", \"-model-n\" + str(i))\n",
    "            if not os.path.exists(path):\n",
    "                os.makedirs(path)\n",
    "\n",
    "        self.predict_folder_save = self.predict_folder_path_last.replace(\n",
    "            \"prediction\", \"prediction_all\"\n",
    "        )\n",
    "        for i in self.epoches_list:\n",
    "            path = self.predict_folder_save + str(i) + \"/prediction\"\n",
    "            if not os.path.exists(path):\n",
    "                os.makedirs(path)\n",
    "\n",
    "        self.feature_cols = [\"close\", \"open\", \"high\", \"low\", \"volume\"]\n",
    "\n",
    "        if CUDA_VISIBLE_DEVICES != \"-1\":\n",
    "            gpus = tf.config.experimental.list_physical_devices(device_type=\"GPU\")\n",
    "            print(gpus)\n",
    "            tf.config.experimental.set_visible_devices(\n",
    "                devices=gpus[0], device_type=\"GPU\"\n",
    "            )\n",
    "            tf.config.experimental.set_memory_growth(gpus[0], True)\n",
    "\n",
    "    def process_features(self, df_features, feature_cols):\n",
    "        df_features_grouped = df_features.groupby(\"dt\")\n",
    "        res = []\n",
    "        for dt in df_features_grouped.groups:\n",
    "            df = df_features_grouped.get_group(dt)\n",
    "            processed_df = process_daily_df_std(df, feature_cols)\n",
    "            res.append(processed_df)\n",
    "        df_features = pd.concat(res)\n",
    "        df_features = df_features.dropna(subset=feature_cols)\n",
    "        return df_features\n",
    "\n",
    "    def construct_pred_data(\n",
    "        self,\n",
    "    ):\n",
    "        import datetime\n",
    "\n",
    "        pred_date_range = (\n",
    "            datetime.datetime.strptime(\"2023-01-03\", \"%Y-%m-%d\").date(),\n",
    "            datetime.datetime.strptime(\"2023-12-29\", \"%Y-%m-%d\").date(),\n",
    "        )\n",
    "\n",
    "        df_org = pd.read_csv(data_path)\n",
    "        kdcodes = df_org[\"kdcode\"].values.tolist()\n",
    "        result = Counter(kdcodes)\n",
    "        result = sorted(result.items(), key=lambda x: x[1], reverse=True)\n",
    "        kdcodes_last = []\n",
    "        result = result[0:stock_num]\n",
    "        for one in result:\n",
    "            kdcodes_last.append(one[0])\n",
    "        df_origin_features = df_org[df_org[\"kdcode\"].isin(kdcodes_last)]\n",
    "\n",
    "        df_origin_features.drop(columns=[\"prev_close\", \"adjfactor\"], inplace=True)\n",
    "        df = df_origin_features\n",
    "        grouped = df.groupby([\"dt\", \"sw_kdcode_2\"], as_index=False).agg(\n",
    "            {\n",
    "                \"kdcode\": \"first\",\n",
    "                \"sw_kdcode_1\": \"first\",\n",
    "                \"close\": \"mean\",\n",
    "                \"open\": \"mean\",\n",
    "                \"high\": \"mean\",\n",
    "                \"low\": \"mean\",\n",
    "                \"volume\": \"mean\",\n",
    "            }\n",
    "        )\n",
    "        grouped[\"kdcode\"] = grouped[\"sw_kdcode_2\"]\n",
    "        merged_df = pd.concat([df, grouped], ignore_index=True)\n",
    "        df2 = df_origin_features\n",
    "\n",
    "        grouped2 = df2.groupby([\"dt\", \"sw_kdcode_1\"], as_index=False).agg(\n",
    "            {\n",
    "                \"kdcode\": \"first\",\n",
    "                \"sw_kdcode_2\": \"first\",\n",
    "                \"close\": \"mean\",\n",
    "                \"open\": \"mean\",\n",
    "                \"high\": \"mean\",\n",
    "                \"low\": \"mean\",\n",
    "                \"volume\": \"mean\",\n",
    "            }\n",
    "        )\n",
    "        grouped2[\"kdcode\"] = grouped2[\"sw_kdcode_1\"]\n",
    "        merged_df2 = pd.concat([merged_df, grouped2], ignore_index=True)\n",
    "        df_origin_features = merged_df2\n",
    "        df_origin_features = df_origin_features.loc[\n",
    "            df_origin_features[\"dt\"] >= \"2022-01-01\"\n",
    "        ]\n",
    "        df_origin_features = df_origin_features.reset_index(drop=True)\n",
    "\n",
    "        def custom_sort(kdcode):\n",
    "            rank1 = 0 if kdcode in kdcodes_last else 1\n",
    "            rank2 = (\n",
    "                0\n",
    "                if kdcode\n",
    "                == df_origin_features.loc[\n",
    "                    df_origin_features[\"kdcode\"] == kdcode, \"sw_kdcode_2\"\n",
    "                ].values[0]\n",
    "                else 1\n",
    "            )\n",
    "            rank3 = (\n",
    "                0\n",
    "                if kdcode\n",
    "                == df_origin_features.loc[\n",
    "                    df_origin_features[\"kdcode\"] == kdcode, \"sw_kdcode_1\"\n",
    "                ].values[0]\n",
    "                else 1\n",
    "            )\n",
    "            return (rank1, rank2, rank3, kdcode)\n",
    "\n",
    "        unique_kdcodes = list(set(df_origin_features[\"kdcode\"]))\n",
    "        sorted_kdcodes = sorted(unique_kdcodes, key=custom_sort)\n",
    "        stock_choose = sorted_kdcodes\n",
    "        df_pred_features = df_origin_features\n",
    "        df_pred_features = self.process_features(df_pred_features, self.feature_cols)\n",
    "        df_pred_features[\"dt\"] = pd.to_datetime(df_pred_features[\"dt\"])\n",
    "        ds_data = create_dataset(\n",
    "            df_pred_features,\n",
    "            self.feature_cols,\n",
    "            \"kdcode\",\n",
    "            pred_date_range,\n",
    "            hist_len=self.train_his,\n",
    "            num_cores=1,\n",
    "        )\n",
    "        idx_data = np.array([x[0] for x in ds_data])\n",
    "        X_data = np.array([x[1] for x in ds_data])\n",
    "        s_idx = pd.Series(index=idx_data, data=list(range(len(idx_data))))\n",
    "        idx_pred = s_idx[[i for i in df_pred_features.index if i in s_idx.index]].values\n",
    "        X_pred = X_data[idx_pred]\n",
    "        origin_idx_pred = idx_data[idx_pred]\n",
    "        day_len_pred = int(len(X_pred) / len(stock_choose))\n",
    "        X_pred_1 = X_pred.reshape(\n",
    "            day_len_pred, len(stock_choose), self.train_his, len(self.feature_cols)\n",
    "        )\n",
    "        print(X_pred_1.shape)\n",
    "        xx_last = []\n",
    "        for i in range(day_len_pred):\n",
    "            x1 = []\n",
    "            for j in range(self.train_his):\n",
    "                x2 = []\n",
    "                for k in range(len(stock_choose)):\n",
    "                    x2.append(X_pred_1[i][k][j])\n",
    "                x1.append(x2)\n",
    "            xx_last.append(x1)\n",
    "        X_pred = np.array(xx_last)\n",
    "        print(\"X_pred shape : \" , X_pred.shape)\n",
    "\n",
    "        dict_index_stock = {}\n",
    "        for i in range(len(stock_choose)):\n",
    "            dict_index_stock[i] = stock_choose[i]\n",
    "\n",
    "        df1_kdcode_list = df_pred_features[\"kdcode\"].values.tolist()\n",
    "        df1_sw_kdcode_1_list = df_pred_features[\"sw_kdcode_1\"].values.tolist()\n",
    "        df1_sw_kdcode_2_list = df_pred_features[\"sw_kdcode_2\"].values.tolist()\n",
    "\n",
    "        dict_kdcode_sw_kdcode_2_1 = {}\n",
    "        for i in range(len(df1_sw_kdcode_2_list)):\n",
    "            if df1_sw_kdcode_2_list[i] not in dict_kdcode_sw_kdcode_2_1:\n",
    "                dict_kdcode_sw_kdcode_2_1[df1_sw_kdcode_2_list[i]] = (\n",
    "                    df1_sw_kdcode_1_list[i]\n",
    "                )\n",
    "\n",
    "        dict_kdcode_sw_kdcode_st_2 = {}\n",
    "        for i in range(len(df1_kdcode_list)):\n",
    "            if df1_kdcode_list[i] not in dict_kdcode_sw_kdcode_st_2:\n",
    "                dict_kdcode_sw_kdcode_st_2[df1_kdcode_list[i]] = df1_sw_kdcode_2_list[i]\n",
    "\n",
    "        from multiprocessing import Pool\n",
    "        from functools import partial\n",
    "\n",
    "        func_partial = partial(\n",
    "            process_row,\n",
    "            stock_choose=stock_choose,\n",
    "            df1_sw_kdcode_1_list=df1_sw_kdcode_1_list,\n",
    "            df1_sw_kdcode_2_list=df1_sw_kdcode_2_list,\n",
    "            dict_kdcode_sw_kdcode_2_1=dict_kdcode_sw_kdcode_2_1,\n",
    "            dict_kdcode_sw_kdcode_st_2=dict_kdcode_sw_kdcode_st_2,\n",
    "        )\n",
    "        pool = mp.Pool(mp.cpu_count())\n",
    "        result = list(\n",
    "            tqdm(\n",
    "                pool.imap(func_partial, range(len(stock_choose))),\n",
    "                total=len(stock_choose),\n",
    "            )\n",
    "        )\n",
    "        pool.close()\n",
    "        pool.join()\n",
    "        matrx = np.array(result)\n",
    "\n",
    "        file_list = os.listdir(self.root_data_path)\n",
    "        if \"matrx_\" + str(self.train_his) + \"_test.npy\" in file_list:\n",
    "            matrx_1 = np.load(\n",
    "                self.root_data_path + \"matrx_\" + str(self.train_his) + \"_test.npy\"\n",
    "            )\n",
    "        else:\n",
    "            df_org = pd.read_csv(data_path)\n",
    "            kdcodes = df_org[\"kdcode\"].values.tolist()\n",
    "            result = Counter(kdcodes)\n",
    "            result = sorted(result.items(), key=lambda x: x[1], reverse=True)\n",
    "            kdcodes_last = []\n",
    "            result = result[0:stock_num]\n",
    "            for one in result:\n",
    "                kdcodes_last.append(one[0])\n",
    "\n",
    "            df_origin_features = df_org[df_org[\"kdcode\"].isin(kdcodes_last)]\n",
    "            df_origin_features.drop(columns=[\"adjfactor\"], inplace=True)\n",
    "\n",
    "            df = df_origin_features\n",
    "            grouped = df.groupby([\"dt\", \"sw_kdcode_2\"], as_index=False).agg(\n",
    "                {\n",
    "                    \"kdcode\": \"first\",\n",
    "                    \"sw_kdcode_1\": \"first\",\n",
    "                    \"close\": \"mean\",\n",
    "                    \"open\": \"mean\",\n",
    "                    \"high\": \"mean\",\n",
    "                    \"low\": \"mean\",\n",
    "                    \"prev_close\": \"mean\",\n",
    "                    \"volume\": \"mean\",\n",
    "                }\n",
    "            )\n",
    "            grouped[\"kdcode\"] = grouped[\"sw_kdcode_2\"]\n",
    "            merged_df = pd.concat([df, grouped], ignore_index=True)\n",
    "            df2 = df_origin_features\n",
    "\n",
    "            grouped2 = df2.groupby([\"dt\", \"sw_kdcode_1\"], as_index=False).agg(\n",
    "                {\n",
    "                    \"kdcode\": \"first\",\n",
    "                    \"sw_kdcode_2\": \"first\",\n",
    "                    \"close\": \"mean\",\n",
    "                    \"open\": \"mean\",\n",
    "                    \"high\": \"mean\",\n",
    "                    \"low\": \"mean\",\n",
    "                    \"prev_close\": \"mean\",\n",
    "                    \"volume\": \"mean\",\n",
    "                }\n",
    "            )\n",
    "            grouped2[\"kdcode\"] = grouped2[\"sw_kdcode_1\"]\n",
    "            merged_df2 = pd.concat([merged_df, grouped2], ignore_index=True)\n",
    "            df_origin_features = merged_df2\n",
    "            df_origin_features = df_origin_features.loc[\n",
    "                df_origin_features[\"dt\"] <= \"2023-12-31\"\n",
    "            ]\n",
    "            df_origin_features = df_origin_features.reset_index(drop=True)\n",
    "\n",
    "            def custom_sort(kdcode):\n",
    "                rank1 = 0 if kdcode in kdcodes_last else 1\n",
    "                rank2 = (\n",
    "                    0\n",
    "                    if kdcode\n",
    "                    == df_origin_features.loc[\n",
    "                        df_origin_features[\"kdcode\"] == kdcode, \"sw_kdcode_2\"\n",
    "                    ].values[0]\n",
    "                    else 1\n",
    "                )\n",
    "                rank3 = (\n",
    "                    0\n",
    "                    if kdcode\n",
    "                    == df_origin_features.loc[\n",
    "                        df_origin_features[\"kdcode\"] == kdcode, \"sw_kdcode_1\"\n",
    "                    ].values[0]\n",
    "                    else 1\n",
    "                )\n",
    "                return (rank1, rank2, rank3, kdcode)\n",
    "\n",
    "            unique_kdcodes = list(set(df_origin_features[\"kdcode\"]))\n",
    "            sorted_kdcodes = sorted(unique_kdcodes, key=custom_sort)\n",
    "            stock_choose = sorted_kdcodes\n",
    "\n",
    "            df_features = self.process_features(\n",
    "                df_origin_features,\n",
    "                [\"close\", \"open\", \"high\", \"low\", \"volume\", \"prev_close\"],\n",
    "            )\n",
    "            dts_all = sorted(list(set(df_origin_features[\"dt\"].values.tolist())))\n",
    "            dts_choose_1 = [\"2022-11-01\", \"2022-11-02\", \"2022-11-03\", \"2022-11-04\", \"2022-11-07\", \"2022-11-08\", \"2022-11-09\", \"2022-11-10\", \"2022-11-11\", \"2022-11-14\", \"2022-11-15\", \"2022-11-16\", \"2022-11-17\",  \"2022-11-18\", \"2022-11-21\", \"2022-11-22\",\n",
    "                            \"2022-11-23\", \"2022-11-25\", \"2022-11-28\", \"2022-11-29\", \"2022-11-30\", \"2022-12-01\", \"2022-12-02\", \"2022-12-05\", \"2022-12-06\", \"2022-12-07\", \"2022-12-08\", \"2022-12-09\", \"2022-12-12\", \"2022-12-13\", \"2022-12-14\", \"2022-12-15\", \n",
    "                            \"2022-12-16\", \"2022-12-19\", \"2022-12-20\", \"2022-12-21\", \"2022-12-22\", \"2022-12-23\", \"2022-12-27\", \"2022-12-28\", \"2022-12-29\", \"2022-12-30\"]\n",
    "            dts_choose_2 = [\"2023-01-03\", \"2023-01-04\", \"2023-01-05\", \"2023-01-06\", \"2023-01-09\", \"2023-01-10\", \"2023-01-11\", \"2023-01-12\", \"2023-01-13\", \"2023-01-17\", \"2023-01-18\", \"2023-01-19\", \"2023-01-20\", \"2023-01-23\", \"2023-01-24\", \"2023-01-25\", \n",
    "                            \"2023-01-26\", \"2023-01-27\", \"2023-01-30\", \"2023-01-31\", \"2023-02-01\", \"2023-02-02\", \"2023-02-03\", \"2023-02-06\", \"2023-02-07\", \"2023-02-08\", \"2023-02-09\", \"2023-02-10\", \"2023-02-13\", \"2023-02-14\", \"2023-02-15\", \"2023-02-16\", \n",
    "                            \"2023-02-17\", \"2023-02-21\", \"2023-02-22\", \"2023-02-23\", \"2023-02-24\", \"2023-02-27\", \"2023-02-28\", \"2023-03-01\", \"2023-03-02\", \"2023-03-03\", \"2023-03-06\", \"2023-03-07\", \"2023-03-08\", \"2023-03-09\", \"2023-03-10\", \"2023-03-13\", \n",
    "                            \"2023-03-14\", \"2023-03-15\", \"2023-03-16\", \"2023-03-17\", \"2023-03-20\", \"2023-03-21\", \"2023-03-22\", \"2023-03-23\", \"2023-03-24\", \"2023-03-27\", \"2023-03-28\", \"2023-03-29\", \"2023-03-30\", \"2023-03-31\", \"2023-04-03\", \"2023-04-04\", \n",
    "                            \"2023-04-05\", \"2023-04-06\", \"2023-04-10\", \"2023-04-11\", \"2023-04-12\", \"2023-04-13\", \"2023-04-14\", \"2023-04-17\", \"2023-04-18\", \"2023-04-19\", \"2023-04-20\", \"2023-04-21\", \"2023-04-24\", \"2023-04-25\", \"2023-04-26\", \"2023-04-27\", \n",
    "                            \"2023-04-28\", \"2023-05-01\", \"2023-05-02\", \"2023-05-03\", \"2023-05-04\", \"2023-05-05\", \"2023-05-08\", \"2023-05-09\", \"2023-05-10\", \"2023-05-11\", \"2023-05-12\", \"2023-05-15\", \"2023-05-16\", \"2023-05-17\", \"2023-05-18\", \"2023-05-19\", \n",
    "                            \"2023-05-22\", \"2023-05-23\", \"2023-05-24\", \"2023-05-25\", \"2023-05-26\", \"2023-05-30\", \"2023-05-31\", \"2023-06-01\", \"2023-06-02\", \"2023-06-05\", \"2023-06-06\", \"2023-06-07\", \"2023-06-08\", \"2023-06-09\", \"2023-06-12\", \"2023-06-13\", \n",
    "                            \"2023-06-14\", \"2023-06-15\", \"2023-06-16\", \"2023-06-20\", \"2023-06-21\", \"2023-06-22\", \"2023-06-23\", \"2023-06-26\", \"2023-06-27\", \"2023-06-28\", \"2023-06-29\", \"2023-06-30\", \"2023-07-03\", \"2023-07-05\", \"2023-07-06\", \"2023-07-07\", \n",
    "                            \"2023-07-10\", \"2023-07-11\", \"2023-07-12\", \"2023-07-13\", \"2023-07-14\", \"2023-07-17\", \"2023-07-18\", \"2023-07-19\", \"2023-07-20\", \"2023-07-21\", \"2023-07-24\", \"2023-07-25\", \"2023-07-26\", \"2023-07-27\", \"2023-07-28\", \"2023-07-31\", \n",
    "                            \"2023-08-01\", \"2023-08-02\", \"2023-08-03\", \"2023-08-04\", \"2023-08-07\", \"2023-08-08\", \"2023-08-09\", \"2023-08-10\", \"2023-08-11\", \"2023-08-14\", \"2023-08-15\", \"2023-08-16\", \"2023-08-17\", \"2023-08-18\", \"2023-08-21\", \"2023-08-22\", \n",
    "                            \"2023-08-23\", \"2023-08-24\", \"2023-08-25\", \"2023-08-28\", \"2023-08-29\", \"2023-08-30\", \"2023-08-31\", \"2023-09-01\", \"2023-09-05\", \"2023-09-06\", \"2023-09-07\", \"2023-09-08\", \"2023-09-11\", \"2023-09-12\", \"2023-09-13\", \"2023-09-14\", \n",
    "                            \"2023-09-15\", \"2023-09-18\", \"2023-09-19\", \"2023-09-20\", \"2023-09-21\", \"2023-09-22\", \"2023-09-25\", \"2023-09-26\", \"2023-09-27\", \"2023-09-28\", \"2023-09-29\", \"2023-10-02\", \"2023-10-03\", \"2023-10-04\", \"2023-10-05\", \"2023-10-06\", \n",
    "                            \"2023-10-09\", \"2023-10-10\", \"2023-10-11\", \"2023-10-12\", \"2023-10-13\", \"2023-10-16\", \"2023-10-17\", \"2023-10-18\", \"2023-10-19\", \"2023-10-20\", \"2023-10-23\", \"2023-10-24\", \"2023-10-25\", \"2023-10-26\", \"2023-10-27\", \"2023-10-30\", \n",
    "                            \"2023-10-31\", \"2023-11-01\", \"2023-11-02\", \"2023-11-03\", \"2023-11-06\", \"2023-11-07\", \"2023-11-08\", \"2023-11-09\", \"2023-11-10\", \"2023-11-13\", \"2023-11-14\", \"2023-11-15\", \"2023-11-16\", \"2023-11-17\", \"2023-11-20\", \"2023-11-21\", \n",
    "                            \"2023-11-22\", \"2023-11-24\", \"2023-11-27\", \"2023-11-28\", \"2023-11-29\", \"2023-11-30\", \"2023-12-01\", \"2023-12-04\", \"2023-12-05\", \"2023-12-06\", \"2023-12-07\", \"2023-12-08\", \"2023-12-11\", \"2023-12-12\", \"2023-12-13\", \"2023-12-14\", \n",
    "                            \"2023-12-15\", \"2023-12-18\", \"2023-12-19\", \"2023-12-20\", \"2023-12-21\", \"2023-12-22\", \"2023-12-26\", \"2023-12-27\", \"2023-12-28\", \"2023-12-29\"]\n",
    "            dts_choose_3 = dts_choose_1[-self.train_his + 1 :] + dts_choose_2\n",
    "            df = df_features\n",
    "            df[\"shouyi\"] = (df[\"open\"] - df[\"prev_close\"]) / df[\"prev_close\"]\n",
    "\n",
    "            param_list = []\n",
    "            for dt_one in tqdm(dts_choose_3):\n",
    "                param_list.append((dts_all, df, dt_one))\n",
    "\n",
    "            pool = multiprocessing.Pool(40)\n",
    "            results = []\n",
    "            for i in range(len(dts_choose_3)):\n",
    "                results.append(pool.apply_async(fun_similar, param_list[i]))\n",
    "            pool.close()\n",
    "            pool.join()\n",
    "\n",
    "            matrx_1 = []\n",
    "            for res in results:\n",
    "                matrx_1.append(res.get())\n",
    "            matrx_2 = []\n",
    "            for one in range(len(dts_choose_2)):\n",
    "                matrx_2.append(matrx_1[one : one + self.train_his])\n",
    "            matrx_1 = np.array(matrx_2)\n",
    "            np.save(\n",
    "                self.root_data_path + \"matrx_\" + str(self.train_his) + \"_test.npy\",\n",
    "                matrx_1,\n",
    "            )\n",
    "        print(\"matrx_1 shape : \" , matrx_1.shape)\n",
    "        return matrx, matrx_1, stock_choose, X_pred, origin_idx_pred\n",
    "\n",
    "    def train(self):\n",
    "        import datetime\n",
    "\n",
    "        train_date_range = (\n",
    "            datetime.datetime.strptime(\"2018-07-02\", \"%Y-%m-%d\").date(),\n",
    "            datetime.datetime.strptime(\"2022-12-27\", \"%Y-%m-%d\").date(),\n",
    "        )\n",
    "\n",
    "        df_org = pd.read_csv(data_path)\n",
    "        kdcodes = df_org[\"kdcode\"].values.tolist()\n",
    "        result = Counter(kdcodes)\n",
    "        result = sorted(result.items(), key=lambda x: x[1], reverse=True)\n",
    "        kdcodes_last = []\n",
    "        print(result)\n",
    "        result = result[0:stock_num]\n",
    "        for one in result:\n",
    "            kdcodes_last.append(one[0])\n",
    "        df_origin_features = df_org[df_org[\"kdcode\"].isin(kdcodes_last)]\n",
    "        df_origin_features.drop(columns=[\"prev_close\", \"adjfactor\"], inplace=True)\n",
    "        df = df_origin_features\n",
    "        grouped = df.groupby([\"dt\", \"sw_kdcode_2\"], as_index=False).agg(\n",
    "            {\n",
    "                \"kdcode\": \"first\",\n",
    "                \"sw_kdcode_1\": \"first\",\n",
    "                \"close\": \"mean\",\n",
    "                \"open\": \"mean\",\n",
    "                \"high\": \"mean\",\n",
    "                \"low\": \"mean\",\n",
    "                \"volume\": \"mean\",\n",
    "            }\n",
    "        )\n",
    "        grouped[\"kdcode\"] = grouped[\"sw_kdcode_2\"]\n",
    "        merged_df = pd.concat([df, grouped], ignore_index=True)\n",
    "        df2 = df_origin_features\n",
    "\n",
    "        grouped2 = df2.groupby([\"dt\", \"sw_kdcode_1\"], as_index=False).agg(\n",
    "            {\n",
    "                \"kdcode\": \"first\",\n",
    "                \"sw_kdcode_2\": \"first\",\n",
    "                \"close\": \"mean\",\n",
    "                \"open\": \"mean\",\n",
    "                \"high\": \"mean\",\n",
    "                \"low\": \"mean\",\n",
    "                \"volume\": \"mean\",\n",
    "            }\n",
    "        )\n",
    "        grouped2[\"kdcode\"] = grouped2[\"sw_kdcode_1\"]\n",
    "        merged_df2 = pd.concat([merged_df, grouped2], ignore_index=True)\n",
    "        df_origin_features = merged_df2\n",
    "\n",
    "        c = self.vwap_col\n",
    "        n = self.T\n",
    "        df_origin_features[\"t1_{}\".format(c)] = df_origin_features.groupby(\"kdcode\")[\n",
    "            c\n",
    "        ].shift(-1)\n",
    "        df_origin_features[\"t{}_{}\".format(n, c)] = df_origin_features.groupby(\n",
    "            \"kdcode\"\n",
    "        )[c].shift(-n)\n",
    "        df_origin_features[\"t{}_{}_return_rate\".format(n, c)] = (\n",
    "            df_origin_features[\"t{}_{}\".format(n, c)]\n",
    "        ) / (df_origin_features[\"t1_{}\".format(c)]) - 1\n",
    "        df_labeled_features = df_origin_features\n",
    "        df_labeled_features = df_labeled_features.loc[\n",
    "            df_labeled_features[\"dt\"] <= \"2022-12-27\"\n",
    "        ]\n",
    "        df_labeled_features = df_labeled_features.reset_index(drop=True)\n",
    "\n",
    "        def custom_sort(kdcode):\n",
    "            rank1 = 0 if kdcode in kdcodes_last else 1\n",
    "            rank2 = (\n",
    "                0\n",
    "                if kdcode\n",
    "                == df_labeled_features.loc[\n",
    "                    df_labeled_features[\"kdcode\"] == kdcode, \"sw_kdcode_2\"\n",
    "                ].values[0]\n",
    "                else 1\n",
    "            )\n",
    "            rank3 = (\n",
    "                0\n",
    "                if kdcode\n",
    "                == df_labeled_features.loc[\n",
    "                    df_labeled_features[\"kdcode\"] == kdcode, \"sw_kdcode_1\"\n",
    "                ].values[0]\n",
    "                else 1\n",
    "            )\n",
    "            return (rank1, rank2, rank3, kdcode)\n",
    "\n",
    "        unique_kdcodes = list(set(df_labeled_features[\"kdcode\"]))\n",
    "        sorted_kdcodes = sorted(unique_kdcodes, key=custom_sort)\n",
    "        stock_choose = sorted_kdcodes\n",
    "        df_labeled_features = self.process_features(\n",
    "            df_labeled_features, self.feature_cols\n",
    "        )\n",
    "        df_labeled_features[\"dt\"] = pd.to_datetime(df_labeled_features[\"dt\"])\n",
    "        df_labeled_features = df_labeled_features.groupby(\"dt\").apply(\n",
    "            lambda df: rank_labeling(\n",
    "                df, col_label=self.col_label_train, col_return=self.col_return\n",
    "            )\n",
    "        )\n",
    "        ds_data = create_dataset(\n",
    "            df_labeled_features,\n",
    "            self.feature_cols,\n",
    "            self.col_label_train,\n",
    "            train_date_range,\n",
    "            hist_len=self.train_his,\n",
    "            num_cores=1,\n",
    "        )\n",
    "        idx_data = np.array([x[0] for x in ds_data])\n",
    "        X_data = np.array([x[1] for x in ds_data])\n",
    "        Y_data = np.array([x[2] for x in ds_data])\n",
    "        s_idx = pd.Series(index=idx_data, data=list(range(len(idx_data))))\n",
    "        idx_train = s_idx[\n",
    "            [i for i in df_labeled_features.index if i in s_idx.index]\n",
    "        ].values\n",
    "        X_train = X_data[idx_train]\n",
    "        Y_train = Y_data[idx_train]\n",
    "        origin_idx_train = idx_data[idx_train]\n",
    "        day_len_train = int(len(X_train) / len(stock_choose))\n",
    "        X_train_1 = X_train.reshape(\n",
    "            day_len_train, len(stock_choose), self.train_his, len(self.feature_cols)\n",
    "        )\n",
    "        xx_last = []\n",
    "        for i in range(day_len_train):\n",
    "            x1 = []\n",
    "            for j in range(self.train_his):\n",
    "                x2 = []\n",
    "                for k in range(len(stock_choose)):\n",
    "                    x2.append(X_train_1[i][k][j])\n",
    "                x1.append(x2)\n",
    "            xx_last.append(x1)\n",
    "        X_train = np.array(xx_last)\n",
    "        Y_train = Y_train.reshape(day_len_train, len(stock_choose), 1)\n",
    "\n",
    "        dict_index_stock = {}\n",
    "        for i in range(len(stock_choose)):\n",
    "            dict_index_stock[i] = stock_choose[i]\n",
    "\n",
    "        df1_kdcode_list = df_labeled_features[\"kdcode\"].values.tolist()\n",
    "        df1_sw_kdcode_1_list = df_labeled_features[\"sw_kdcode_1\"].values.tolist()\n",
    "        df1_sw_kdcode_2_list = df_labeled_features[\"sw_kdcode_2\"].values.tolist()\n",
    "\n",
    "        dict_kdcode_sw_kdcode_2_1 = {}\n",
    "        for i in range(len(df1_sw_kdcode_2_list)):\n",
    "            if df1_sw_kdcode_2_list[i] not in dict_kdcode_sw_kdcode_2_1:\n",
    "                dict_kdcode_sw_kdcode_2_1[df1_sw_kdcode_2_list[i]] = (\n",
    "                    df1_sw_kdcode_1_list[i]\n",
    "                )\n",
    "\n",
    "        dict_kdcode_sw_kdcode_st_2 = {}\n",
    "        for i in range(len(df1_kdcode_list)):\n",
    "            if df1_kdcode_list[i] not in dict_kdcode_sw_kdcode_st_2:\n",
    "                dict_kdcode_sw_kdcode_st_2[df1_kdcode_list[i]] = df1_sw_kdcode_2_list[i]\n",
    "\n",
    "        from multiprocessing import Pool\n",
    "        from functools import partial\n",
    "\n",
    "        func_partial = partial(\n",
    "            process_row,\n",
    "            stock_choose=stock_choose,\n",
    "            df1_sw_kdcode_1_list=df1_sw_kdcode_1_list,\n",
    "            df1_sw_kdcode_2_list=df1_sw_kdcode_2_list,\n",
    "            dict_kdcode_sw_kdcode_2_1=dict_kdcode_sw_kdcode_2_1,\n",
    "            dict_kdcode_sw_kdcode_st_2=dict_kdcode_sw_kdcode_st_2,\n",
    "        )\n",
    "        pool = mp.Pool(mp.cpu_count())\n",
    "        result = list(\n",
    "            tqdm(\n",
    "                pool.imap(func_partial, range(len(stock_choose))),\n",
    "                total=len(stock_choose),\n",
    "            )\n",
    "        )\n",
    "        pool.close()\n",
    "        pool.join()\n",
    "        matrx = np.array(result)\n",
    "        print(matrx.shape)\n",
    "\n",
    "        file_list = os.listdir(self.root_data_path)\n",
    "        if \"matrx_\" + str(self.train_his) + \"_train.npy\" in file_list:\n",
    "            matrx_1 = np.load(\n",
    "                self.root_data_path + \"matrx_\" + str(self.train_his) + \"_train.npy\"\n",
    "            )\n",
    "            print(matrx_1.shape)\n",
    "        else:\n",
    "            df_org = pd.read_csv(data_path)\n",
    "            kdcodes = df_org[\"kdcode\"].values.tolist()\n",
    "            result = Counter(kdcodes)\n",
    "            result = sorted(result.items(), key=lambda x: x[1], reverse=True)\n",
    "            kdcodes_last = []\n",
    "            result = result[0:stock_num]\n",
    "            for one in result:\n",
    "                kdcodes_last.append(one[0])\n",
    "\n",
    "            df_origin_features = df_org[df_org[\"kdcode\"].isin(kdcodes_last)]\n",
    "            df_origin_features.drop(columns=[\"adjfactor\"], inplace=True)\n",
    "            df = df_origin_features\n",
    "            grouped = df.groupby([\"dt\", \"sw_kdcode_2\"], as_index=False).agg(\n",
    "                {\n",
    "                    \"kdcode\": \"first\",\n",
    "                    \"sw_kdcode_1\": \"first\",\n",
    "                    \"close\": \"mean\",\n",
    "                    \"open\": \"mean\",\n",
    "                    \"high\": \"mean\",\n",
    "                    \"low\": \"mean\",\n",
    "                    \"prev_close\": \"mean\",\n",
    "                    \"volume\": \"mean\",\n",
    "                }\n",
    "            )\n",
    "            grouped[\"kdcode\"] = grouped[\"sw_kdcode_2\"]\n",
    "            merged_df = pd.concat([df, grouped], ignore_index=True)\n",
    "            df2 = df_origin_features\n",
    "\n",
    "            grouped2 = df2.groupby([\"dt\", \"sw_kdcode_1\"], as_index=False).agg(\n",
    "                {\n",
    "                    \"kdcode\": \"first\",\n",
    "                    \"sw_kdcode_2\": \"first\",\n",
    "                    \"close\": \"mean\",\n",
    "                    \"open\": \"mean\",\n",
    "                    \"high\": \"mean\",\n",
    "                    \"low\": \"mean\",\n",
    "                    \"prev_close\": \"mean\",\n",
    "                    \"volume\": \"mean\",\n",
    "                }\n",
    "            )\n",
    "            grouped2[\"kdcode\"] = grouped2[\"sw_kdcode_1\"]\n",
    "            merged_df2 = pd.concat([merged_df, grouped2], ignore_index=True)\n",
    "            df_origin_features = merged_df2\n",
    "\n",
    "            df_origin_features = df_origin_features.loc[\n",
    "                df_origin_features[\"dt\"] <= \"2022-12-27\"\n",
    "            ]\n",
    "            df_origin_features = df_origin_features.reset_index(drop=True)\n",
    "\n",
    "            def custom_sort(kdcode):\n",
    "                rank1 = 0 if kdcode in kdcodes_last else 1\n",
    "                rank2 = (\n",
    "                    0\n",
    "                    if kdcode\n",
    "                    == df_origin_features.loc[\n",
    "                        df_origin_features[\"kdcode\"] == kdcode, \"sw_kdcode_2\"\n",
    "                    ].values[0]\n",
    "                    else 1\n",
    "                )\n",
    "                rank3 = (\n",
    "                    0\n",
    "                    if kdcode\n",
    "                    == df_origin_features.loc[\n",
    "                        df_origin_features[\"kdcode\"] == kdcode, \"sw_kdcode_1\"\n",
    "                    ].values[0]\n",
    "                    else 1\n",
    "                )\n",
    "                return (rank1, rank2, rank3, kdcode)\n",
    "\n",
    "            unique_kdcodes = list(set(df_origin_features[\"kdcode\"]))\n",
    "            sorted_kdcodes = sorted(unique_kdcodes, key=custom_sort)\n",
    "            stock_choose = sorted_kdcodes\n",
    "\n",
    "            df_features = self.process_features(\n",
    "                df_origin_features,\n",
    "                [\"close\", \"open\", \"high\", \"low\", \"volume\", \"prev_close\"],\n",
    "            )\n",
    "            dts_all = sorted(list(set(df_origin_features[\"dt\"].values.tolist())))\n",
    "            dts_choose_1 = [\"2018-01-02\", \"2018-01-03\", \"2018-01-04\", \"2018-01-05\", \"2018-01-08\", \"2018-01-09\", \"2018-01-10\", \"2018-01-11\", \"2018-01-12\", \"2018-01-16\", \"2018-01-17\", \"2018-01-18\", \"2018-01-19\", \"2018-01-22\", \"2018-01-23\", \n",
    "                            \"2018-01-24\", \"2018-01-25\", \"2018-01-26\", \"2018-01-29\", \"2018-01-30\", \"2018-01-31\", \"2018-02-01\", \"2018-02-02\", \"2018-02-05\", \"2018-02-06\", \"2018-02-07\", \"2018-02-08\", \"2018-02-09\", \"2018-02-12\", \"2018-02-13\", \n",
    "                            \"2018-02-14\", \"2018-02-15\", \"2018-02-16\", \"2018-02-20\", \"2018-02-21\", \"2018-02-22\", \"2018-02-23\", \"2018-02-26\", \"2018-02-27\", \"2018-02-28\", \"2018-03-01\", \"2018-03-02\", \"2018-03-05\", \"2018-03-06\", \"2018-03-07\", \n",
    "                            \"2018-03-08\", \"2018-03-09\", \"2018-03-12\", \"2018-03-13\", \"2018-03-14\", \"2018-03-15\", \"2018-03-16\", \"2018-03-19\", \"2018-03-20\", \"2018-03-21\", \"2018-03-22\", \"2018-03-23\", \"2018-03-26\", \"2018-03-27\", \"2018-03-28\", \n",
    "                            \"2018-03-29\", \"2018-04-02\", \"2018-04-03\", \"2018-04-04\", \"2018-04-05\", \"2018-04-06\", \"2018-04-09\", \"2018-04-10\", \"2018-04-11\", \"2018-04-12\", \"2018-04-13\", \"2018-04-16\", \"2018-04-17\", \"2018-04-18\", \"2018-04-19\", \n",
    "                            \"2018-04-20\", \"2018-04-23\", \"2018-04-24\", \"2018-04-25\", \"2018-04-26\", \"2018-04-27\", \"2018-04-30\", \"2018-05-01\", \"2018-05-02\", \"2018-05-03\", \"2018-05-04\", \"2018-05-07\", \"2018-05-08\", \"2018-05-09\", \"2018-05-10\", \n",
    "                            \"2018-05-11\", \"2018-05-14\", \"2018-05-15\", \"2018-05-16\", \"2018-05-17\", \"2018-05-18\", \"2018-05-21\", \"2018-05-22\", \"2018-05-23\", \"2018-05-24\", \"2018-05-25\", \"2018-05-29\", \"2018-05-30\", \"2018-05-31\", \"2018-06-01\", \n",
    "                            \"2018-06-04\", \"2018-06-05\", \"2018-06-06\", \"2018-06-07\", \"2018-06-08\", \"2018-06-11\", \"2018-06-12\", \"2018-06-13\", \"2018-06-14\", \"2018-06-15\", \"2018-06-18\", \"2018-06-19\", \"2018-06-20\", \"2018-06-21\", \"2018-06-22\", \n",
    "                            \"2018-06-25\", \"2018-06-26\", \"2018-06-27\", \"2018-06-28\", \"2018-06-29\"]\n",
    "            dts_choose_2 = [\"2018-07-02\", \"2018-07-03\", \"2018-07-05\", \"2018-07-06\", \"2018-07-09\", \"2018-07-10\", \"2018-07-11\", \"2018-07-12\", \"2018-07-13\", \"2018-07-16\", \"2018-07-17\", \"2018-07-18\", \"2018-07-19\", \"2018-07-20\", \"2018-07-23\", \n",
    "                            \"2018-07-24\", \"2018-07-25\", \"2018-07-26\", \"2018-07-27\", \"2018-07-30\", \"2018-07-31\", \"2018-08-01\", \"2018-08-02\", \"2018-08-03\", \"2018-08-06\", \"2018-08-07\", \"2018-08-08\", \"2018-08-09\", \"2018-08-10\", \"2018-08-13\", \n",
    "                            \"2018-08-14\", \"2018-08-15\", \"2018-08-16\", \"2018-08-17\", \"2018-08-20\", \"2018-08-21\", \"2018-08-22\", \"2018-08-23\", \"2018-08-24\", \"2018-08-27\", \"2018-08-28\", \"2018-08-29\", \"2018-08-30\", \"2018-08-31\", \"2018-09-04\", \n",
    "                            \"2018-09-05\", \"2018-09-06\", \"2018-09-07\", \"2018-09-10\", \"2018-09-11\", \"2018-09-12\", \"2018-09-13\", \"2018-09-14\", \"2018-09-17\", \"2018-09-18\", \"2018-09-19\", \"2018-09-20\", \"2018-09-21\", \"2018-09-24\", \"2018-09-25\", \n",
    "                            \"2018-09-26\", \"2018-09-27\", \"2018-09-28\", \"2018-10-01\", \"2018-10-02\", \"2018-10-03\", \"2018-10-04\", \"2018-10-05\", \"2018-10-08\", \"2018-10-09\", \"2018-10-10\", \"2018-10-11\", \"2018-10-12\", \"2018-10-15\", \"2018-10-16\", \n",
    "                            \"2018-10-17\", \"2018-10-18\", \"2018-10-19\", \"2018-10-22\", \"2018-10-23\", \"2018-10-24\", \"2018-10-25\", \"2018-10-26\", \"2018-10-29\", \"2018-10-30\", \"2018-10-31\", \"2018-11-01\", \"2018-11-02\", \"2018-11-05\", \"2018-11-06\", \n",
    "                            \"2018-11-07\", \"2018-11-08\", \"2018-11-09\", \"2018-11-12\", \"2018-11-13\", \"2018-11-14\", \"2018-11-15\", \"2018-11-16\", \"2018-11-19\", \"2018-11-20\", \"2018-11-21\", \"2018-11-23\", \"2018-11-26\", \"2018-11-27\", \"2018-11-28\", \n",
    "                            \"2018-11-29\", \"2018-11-30\", \"2018-12-03\", \"2018-12-04\", \"2018-12-06\", \"2018-12-07\", \"2018-12-10\", \"2018-12-11\", \"2018-12-12\", \"2018-12-13\", \"2018-12-14\", \"2018-12-17\", \"2018-12-18\", \"2018-12-19\", \"2018-12-20\", \n",
    "                            \"2018-12-21\", \"2018-12-24\", \"2018-12-26\", \"2018-12-27\", \"2018-12-28\", \"2018-12-31\", \"2019-01-02\", \"2019-01-03\", \"2019-01-04\", \"2019-01-07\", \"2019-01-08\", \"2019-01-09\", \"2019-01-10\", \"2019-01-11\", \"2019-01-14\", \n",
    "                            \"2019-01-15\", \"2019-01-16\", \"2019-01-17\", \"2019-01-18\", \"2019-01-22\", \"2019-01-23\", \"2019-01-24\", \"2019-01-25\", \"2019-01-28\", \"2019-01-29\", \"2019-01-30\", \"2019-01-31\", \"2019-02-01\", \"2019-02-04\", \"2019-02-05\", \n",
    "                            \"2019-02-06\", \"2019-02-07\", \"2019-02-08\", \"2019-02-11\", \"2019-02-12\", \"2019-02-13\", \"2019-02-14\", \"2019-02-15\", \"2019-02-19\", \"2019-02-20\", \"2019-02-21\", \"2019-02-22\", \"2019-02-25\", \"2019-02-26\", \"2019-02-27\", \n",
    "                            \"2019-02-28\", \"2019-03-01\", \"2019-03-04\", \"2019-03-05\", \"2019-03-06\", \"2019-03-07\", \"2019-03-08\", \"2019-03-11\", \"2019-03-12\", \"2019-03-13\", \"2019-03-14\", \"2019-03-15\", \"2019-03-18\", \"2019-03-19\", \"2019-03-20\", \n",
    "                            \"2019-03-21\", \"2019-03-22\", \"2019-03-25\", \"2019-03-26\", \"2019-03-27\", \"2019-03-28\", \"2019-03-29\", \"2019-04-01\", \"2019-04-02\", \"2019-04-03\", \"2019-04-04\", \"2019-04-05\", \"2019-04-08\", \"2019-04-09\", \"2019-04-10\", \n",
    "                            \"2019-04-11\", \"2019-04-12\", \"2019-04-15\", \"2019-04-16\", \"2019-04-17\", \"2019-04-18\", \"2019-04-22\", \"2019-04-23\", \"2019-04-24\", \"2019-04-25\", \"2019-04-26\", \"2019-04-29\", \"2019-04-30\", \"2019-05-01\", \"2019-05-02\", \n",
    "                            \"2019-05-03\", \"2019-05-06\", \"2019-05-07\", \"2019-05-08\", \"2019-05-09\", \"2019-05-10\", \"2019-05-13\", \"2019-05-14\", \"2019-05-15\", \"2019-05-16\", \"2019-05-17\", \"2019-05-20\", \"2019-05-21\", \"2019-05-22\", \"2019-05-23\", \n",
    "                            \"2019-05-24\", \"2019-05-28\", \"2019-05-29\", \"2019-05-30\", \"2019-05-31\", \"2019-06-03\", \"2019-06-04\", \"2019-06-05\", \"2019-06-06\", \"2019-06-07\", \"2019-06-10\", \"2019-06-11\", \"2019-06-12\", \"2019-06-13\", \"2019-06-14\", \n",
    "                            \"2019-06-17\", \"2019-06-18\", \"2019-06-19\", \"2019-06-20\", \"2019-06-21\", \"2019-06-24\", \"2019-06-25\", \"2019-06-26\", \"2019-06-27\", \"2019-06-28\", \"2019-07-01\", \"2019-07-02\", \"2019-07-03\", \"2019-07-05\", \"2019-07-08\", \n",
    "                            \"2019-07-09\", \"2019-07-10\", \"2019-07-11\", \"2019-07-12\", \"2019-07-15\", \"2019-07-16\", \"2019-07-17\", \"2019-07-18\", \"2019-07-19\", \"2019-07-22\", \"2019-07-23\", \"2019-07-24\", \"2019-07-25\", \"2019-07-26\", \"2019-07-29\", \n",
    "                            \"2019-07-30\", \"2019-07-31\", \"2019-08-01\", \"2019-08-02\", \"2019-08-05\", \"2019-08-06\", \"2019-08-07\", \"2019-08-08\", \"2019-08-09\", \"2019-08-12\", \"2019-08-13\", \"2019-08-14\", \"2019-08-15\", \"2019-08-16\", \"2019-08-19\", \n",
    "                            \"2019-08-20\", \"2019-08-21\", \"2019-08-22\", \"2019-08-23\", \"2019-08-26\", \"2019-08-27\", \"2019-08-28\", \"2019-08-29\", \"2019-08-30\", \"2019-09-03\", \"2019-09-04\", \"2019-09-05\", \"2019-09-06\", \"2019-09-09\", \"2019-09-10\", \n",
    "                            \"2019-09-11\", \"2019-09-12\", \"2019-09-13\", \"2019-09-16\", \"2019-09-17\", \"2019-09-18\", \"2019-09-19\", \"2019-09-20\", \"2019-09-23\", \"2019-09-24\", \"2019-09-25\", \"2019-09-26\", \"2019-09-27\", \"2019-09-30\", \"2019-10-01\", \n",
    "                            \"2019-10-02\", \"2019-10-03\", \"2019-10-04\", \"2019-10-07\", \"2019-10-08\", \"2019-10-09\", \"2019-10-10\", \"2019-10-11\", \"2019-10-14\", \"2019-10-15\", \"2019-10-16\", \"2019-10-17\", \"2019-10-18\", \"2019-10-21\", \"2019-10-22\", \n",
    "                            \"2019-10-23\", \"2019-10-24\", \"2019-10-25\", \"2019-10-28\", \"2019-10-29\", \"2019-10-30\", \"2019-10-31\", \"2019-11-01\", \"2019-11-04\", \"2019-11-05\", \"2019-11-06\", \"2019-11-07\", \"2019-11-08\", \"2019-11-11\", \"2019-11-12\", \n",
    "                            \"2019-11-13\", \"2019-11-14\", \"2019-11-15\", \"2019-11-18\", \"2019-11-19\", \"2019-11-20\", \"2019-11-21\", \"2019-11-22\", \"2019-11-25\", \"2019-11-26\", \"2019-11-27\", \"2019-11-29\", \"2019-12-02\", \"2019-12-03\", \"2019-12-04\", \n",
    "                            \"2019-12-05\", \"2019-12-06\", \"2019-12-09\", \"2019-12-10\", \"2019-12-11\", \"2019-12-12\", \"2019-12-13\", \"2019-12-16\", \"2019-12-17\", \"2019-12-18\", \"2019-12-19\", \"2019-12-20\", \"2019-12-23\", \"2019-12-24\", \"2019-12-26\", \n",
    "                            \"2019-12-27\", \"2019-12-30\", \"2019-12-31\", \"2020-01-02\", \"2020-01-03\", \"2020-01-06\", \"2020-01-07\", \"2020-01-08\", \"2020-01-09\", \"2020-01-10\", \"2020-01-13\", \"2020-01-14\", \"2020-01-15\", \"2020-01-16\", \"2020-01-17\", \n",
    "                            \"2020-01-21\", \"2020-01-22\", \"2020-01-23\", \"2020-01-24\", \"2020-01-27\", \"2020-01-28\", \"2020-01-29\", \"2020-01-30\", \"2020-01-31\", \"2020-02-03\", \"2020-02-04\", \"2020-02-05\", \"2020-02-06\", \"2020-02-07\", \"2020-02-10\", \n",
    "                            \"2020-02-11\", \"2020-02-12\", \"2020-02-13\", \"2020-02-14\", \"2020-02-18\", \"2020-02-19\", \"2020-02-20\", \"2020-02-21\", \"2020-02-24\", \"2020-02-25\", \"2020-02-26\", \"2020-02-27\", \"2020-02-28\", \"2020-03-02\", \"2020-03-03\", \n",
    "                            \"2020-03-04\", \"2020-03-05\", \"2020-03-06\", \"2020-03-09\", \"2020-03-10\", \"2020-03-11\", \"2020-03-12\", \"2020-03-13\", \"2020-03-16\", \"2020-03-17\", \"2020-03-18\", \"2020-03-19\", \"2020-03-20\", \"2020-03-23\", \"2020-03-24\", \n",
    "                            \"2020-03-25\", \"2020-03-26\", \"2020-03-27\", \"2020-03-30\", \"2020-03-31\", \"2020-04-01\", \"2020-04-02\", \"2020-04-03\", \"2020-04-06\", \"2020-04-07\", \"2020-04-08\", \"2020-04-09\", \"2020-04-13\", \"2020-04-14\", \"2020-04-15\", \n",
    "                            \"2020-04-16\", \"2020-04-17\", \"2020-04-20\", \"2020-04-21\", \"2020-04-22\", \"2020-04-23\", \"2020-04-24\", \"2020-04-27\", \"2020-04-28\", \"2020-04-29\", \"2020-04-30\", \"2020-05-01\", \"2020-05-04\", \"2020-05-05\", \"2020-05-06\", \n",
    "                            \"2020-05-07\", \"2020-05-08\", \"2020-05-11\", \"2020-05-12\", \"2020-05-13\", \"2020-05-14\", \"2020-05-15\", \"2020-05-18\", \"2020-05-19\", \"2020-05-20\", \"2020-05-21\", \"2020-05-22\", \"2020-05-26\", \"2020-05-27\", \"2020-05-28\", \n",
    "                            \"2020-05-29\", \"2020-06-01\", \"2020-06-02\", \"2020-06-03\", \"2020-06-04\", \"2020-06-05\", \"2020-06-08\", \"2020-06-09\", \"2020-06-10\", \"2020-06-11\", \"2020-06-12\", \"2020-06-15\", \"2020-06-16\", \"2020-06-17\", \"2020-06-18\", \n",
    "                            \"2020-06-19\", \"2020-06-22\", \"2020-06-23\", \"2020-06-24\", \"2020-06-25\", \"2020-06-26\", \"2020-06-29\", \"2020-06-30\", \"2020-07-01\", \"2020-07-02\", \"2020-07-06\", \"2020-07-07\", \"2020-07-08\", \"2020-07-09\", \"2020-07-10\", \n",
    "                            \"2020-07-13\", \"2020-07-14\", \"2020-07-15\", \"2020-07-16\", \"2020-07-17\", \"2020-07-20\", \"2020-07-21\", \"2020-07-22\", \"2020-07-23\", \"2020-07-24\", \"2020-07-27\", \"2020-07-28\", \"2020-07-29\", \"2020-07-30\", \"2020-07-31\", \n",
    "                            \"2020-08-03\", \"2020-08-04\", \"2020-08-05\", \"2020-08-06\", \"2020-08-07\", \"2020-08-10\", \"2020-08-11\", \"2020-08-12\", \"2020-08-13\", \"2020-08-14\", \"2020-08-17\", \"2020-08-18\", \"2020-08-19\", \"2020-08-20\", \"2020-08-21\", \n",
    "                            \"2020-08-24\", \"2020-08-25\", \"2020-08-26\", \"2020-08-27\", \"2020-08-28\", \"2020-08-31\", \"2020-09-01\", \"2020-09-02\", \"2020-09-03\", \"2020-09-04\", \"2020-09-08\", \"2020-09-09\", \"2020-09-10\", \"2020-09-11\", \"2020-09-14\", \n",
    "                            \"2020-09-15\", \"2020-09-16\", \"2020-09-17\", \"2020-09-18\", \"2020-09-21\", \"2020-09-22\", \"2020-09-23\", \"2020-09-24\", \"2020-09-25\", \"2020-09-28\", \"2020-09-29\", \"2020-09-30\", \"2020-10-01\", \"2020-10-02\", \"2020-10-05\", \n",
    "                            \"2020-10-06\", \"2020-10-07\", \"2020-10-08\", \"2020-10-09\", \"2020-10-12\", \"2020-10-13\", \"2020-10-14\", \"2020-10-15\", \"2020-10-16\", \"2020-10-19\", \"2020-10-20\", \"2020-10-21\", \"2020-10-22\", \"2020-10-23\", \"2020-10-26\", \n",
    "                            \"2020-10-27\", \"2020-10-28\", \"2020-10-29\", \"2020-10-30\", \"2020-11-02\", \"2020-11-03\", \"2020-11-04\", \"2020-11-05\", \"2020-11-06\", \"2020-11-09\", \"2020-11-10\", \"2020-11-11\", \"2020-11-12\", \"2020-11-13\", \"2020-11-16\", \n",
    "                            \"2020-11-17\", \"2020-11-18\", \"2020-11-19\", \"2020-11-20\", \"2020-11-23\", \"2020-11-24\", \"2020-11-25\", \"2020-11-27\", \"2020-11-30\", \"2020-12-01\", \"2020-12-02\", \"2020-12-03\", \"2020-12-04\", \"2020-12-07\", \"2020-12-08\", \n",
    "                            \"2020-12-09\", \"2020-12-10\", \"2020-12-11\", \"2020-12-14\", \"2020-12-15\", \"2020-12-16\", \"2020-12-17\", \"2020-12-18\", \"2020-12-21\", \"2020-12-22\", \"2020-12-23\", \"2020-12-24\", \"2020-12-28\", \"2020-12-29\", \"2020-12-30\", \n",
    "                            \"2020-12-31\", \"2021-01-04\", \"2021-01-05\", \"2021-01-06\", \"2021-01-07\", \"2021-01-08\", \"2021-01-11\", \"2021-01-12\", \"2021-01-13\", \"2021-01-14\", \"2021-01-15\", \"2021-01-19\", \"2021-01-20\", \"2021-01-21\", \"2021-01-22\", \n",
    "                            \"2021-01-25\", \"2021-01-26\", \"2021-01-27\", \"2021-01-28\", \"2021-01-29\", \"2021-02-01\", \"2021-02-02\", \"2021-02-03\", \"2021-02-04\", \"2021-02-05\", \"2021-02-08\", \"2021-02-09\", \"2021-02-10\", \"2021-02-11\", \"2021-02-12\", \n",
    "                            \"2021-02-16\", \"2021-02-17\", \"2021-02-18\", \"2021-02-19\", \"2021-02-22\", \"2021-02-23\", \"2021-02-24\", \"2021-02-25\", \"2021-02-26\", \"2021-03-01\", \"2021-03-02\", \"2021-03-03\", \"2021-03-04\", \"2021-03-05\", \"2021-03-08\", \n",
    "                            \"2021-03-09\", \"2021-03-10\", \"2021-03-11\", \"2021-03-12\", \"2021-03-15\", \"2021-03-16\", \"2021-03-17\", \"2021-03-18\", \"2021-03-19\", \"2021-03-22\", \"2021-03-23\", \"2021-03-24\", \"2021-03-25\", \"2021-03-26\", \"2021-03-29\", \n",
    "                            \"2021-03-30\", \"2021-03-31\", \"2021-04-01\", \"2021-04-05\", \"2021-04-06\", \"2021-04-07\", \"2021-04-08\", \"2021-04-09\", \"2021-04-12\", \"2021-04-13\", \"2021-04-14\", \"2021-04-15\", \"2021-04-16\", \"2021-04-19\", \"2021-04-20\", \n",
    "                            \"2021-04-21\", \"2021-04-22\", \"2021-04-23\", \"2021-04-26\", \"2021-04-27\", \"2021-04-28\", \"2021-04-29\", \"2021-04-30\", \"2021-05-03\", \"2021-05-04\", \"2021-05-05\", \"2021-05-06\", \"2021-05-07\", \"2021-05-10\", \"2021-05-11\", \n",
    "                            \"2021-05-12\", \"2021-05-13\", \"2021-05-14\", \"2021-05-17\", \"2021-05-18\", \"2021-05-19\", \"2021-05-20\", \"2021-05-21\", \"2021-05-24\", \"2021-05-25\", \"2021-05-26\", \"2021-05-27\", \"2021-05-28\", \"2021-06-01\", \"2021-06-02\", \n",
    "                            \"2021-06-03\", \"2021-06-04\", \"2021-06-07\", \"2021-06-08\", \"2021-06-09\", \"2021-06-10\", \"2021-06-11\", \"2021-06-14\", \"2021-06-15\", \"2021-06-16\", \"2021-06-17\", \"2021-06-18\", \"2021-06-21\", \"2021-06-22\", \"2021-06-23\", \n",
    "                            \"2021-06-24\", \"2021-06-25\", \"2021-06-28\", \"2021-06-29\", \"2021-06-30\", \"2021-07-01\", \"2021-07-02\", \"2021-07-06\", \"2021-07-07\", \"2021-07-08\", \"2021-07-09\", \"2021-07-12\", \"2021-07-13\", \"2021-07-14\", \"2021-07-15\", \n",
    "                            \"2021-07-16\", \"2021-07-19\", \"2021-07-20\", \"2021-07-21\", \"2021-07-22\", \"2021-07-23\", \"2021-07-26\", \"2021-07-27\", \"2021-07-28\", \"2021-07-29\", \"2021-07-30\", \"2021-08-02\", \"2021-08-03\", \"2021-08-04\", \"2021-08-05\", \n",
    "                            \"2021-08-06\", \"2021-08-09\", \"2021-08-10\", \"2021-08-11\", \"2021-08-12\", \"2021-08-13\", \"2021-08-16\", \"2021-08-17\", \"2021-08-18\", \"2021-08-19\", \"2021-08-20\", \"2021-08-23\", \"2021-08-24\", \"2021-08-25\", \"2021-08-26\", \n",
    "                            \"2021-08-27\", \"2021-08-30\", \"2021-08-31\", \"2021-09-01\", \"2021-09-02\", \"2021-09-03\", \"2021-09-07\", \"2021-09-08\", \"2021-09-09\", \"2021-09-10\", \"2021-09-13\", \"2021-09-14\", \"2021-09-15\", \"2021-09-16\", \"2021-09-17\", \n",
    "                            \"2021-09-20\", \"2021-09-21\", \"2021-09-22\", \"2021-09-23\", \"2021-09-24\", \"2021-09-27\", \"2021-09-28\", \"2021-09-29\", \"2021-09-30\", \"2021-10-01\", \"2021-10-04\", \"2021-10-05\", \"2021-10-06\", \"2021-10-07\", \"2021-10-08\", \n",
    "                            \"2021-10-11\", \"2021-10-12\", \"2021-10-13\", \"2021-10-14\", \"2021-10-15\", \"2021-10-18\", \"2021-10-19\", \"2021-10-20\", \"2021-10-21\", \"2021-10-22\", \"2021-10-25\", \"2021-10-26\", \"2021-10-27\", \"2021-10-28\", \"2021-10-29\", \n",
    "                            \"2021-11-01\", \"2021-11-02\", \"2021-11-03\", \"2021-11-04\", \"2021-11-05\", \"2021-11-08\", \"2021-11-09\", \"2021-11-10\", \"2021-11-11\", \"2021-11-12\", \"2021-11-15\", \"2021-11-16\", \"2021-11-17\", \"2021-11-18\", \"2021-11-19\", \n",
    "                            \"2021-11-22\", \"2021-11-23\", \"2021-11-24\", \"2021-11-26\", \"2021-11-29\", \"2021-11-30\", \"2021-12-01\", \"2021-12-02\", \"2021-12-03\", \"2021-12-06\", \"2021-12-07\", \"2021-12-08\", \"2021-12-09\", \"2021-12-10\", \"2021-12-13\", \n",
    "                            \"2021-12-14\", \"2021-12-15\", \"2021-12-16\", \"2021-12-17\", \"2021-12-20\", \"2021-12-21\", \"2021-12-22\", \"2021-12-23\", \"2021-12-27\", \"2021-12-28\", \"2021-12-29\", \"2021-12-30\", \"2021-12-31\", \"2022-01-03\", \"2022-01-04\", \n",
    "                            \"2022-01-05\", \"2022-01-06\", \"2022-01-07\", \"2022-01-10\", \"2022-01-11\", \"2022-01-12\", \"2022-01-13\", \"2022-01-14\", \"2022-01-18\", \"2022-01-19\", \"2022-01-20\", \"2022-01-21\", \"2022-01-24\", \"2022-01-25\", \"2022-01-26\", \n",
    "                            \"2022-01-27\", \"2022-01-28\", \"2022-01-31\", \"2022-02-01\", \"2022-02-02\", \"2022-02-03\", \"2022-02-04\", \"2022-02-07\", \"2022-02-08\", \"2022-02-09\", \"2022-02-10\", \"2022-02-11\", \"2022-02-14\", \"2022-02-15\", \"2022-02-16\", \n",
    "                            \"2022-02-17\", \"2022-02-18\", \"2022-02-22\", \"2022-02-23\", \"2022-02-24\", \"2022-02-25\", \"2022-02-28\", \"2022-03-01\", \"2022-03-02\", \"2022-03-03\", \"2022-03-04\", \"2022-03-07\", \"2022-03-08\", \"2022-03-09\", \"2022-03-10\", \n",
    "                            \"2022-03-11\", \"2022-03-14\", \"2022-03-15\", \"2022-03-16\", \"2022-03-17\", \"2022-03-18\", \"2022-03-21\", \"2022-03-22\", \"2022-03-23\", \"2022-03-24\", \"2022-03-25\", \"2022-03-28\", \"2022-03-29\", \"2022-03-30\", \"2022-03-31\", \n",
    "                            \"2022-04-01\", \"2022-04-04\", \"2022-04-05\", \"2022-04-06\", \"2022-04-07\", \"2022-04-08\", \"2022-04-11\", \"2022-04-12\", \"2022-04-13\", \"2022-04-14\", \"2022-04-18\", \"2022-04-19\", \"2022-04-20\", \"2022-04-21\", \"2022-04-22\", \n",
    "                            \"2022-04-25\", \"2022-04-26\", \"2022-04-27\", \"2022-04-28\", \"2022-04-29\", \"2022-05-02\", \"2022-05-03\", \"2022-05-04\", \"2022-05-05\", \"2022-05-06\", \"2022-05-09\", \"2022-05-10\", \"2022-05-11\", \"2022-05-12\", \"2022-05-13\", \n",
    "                            \"2022-05-16\", \"2022-05-17\", \"2022-05-18\", \"2022-05-19\", \"2022-05-20\", \"2022-05-23\", \"2022-05-24\", \"2022-05-25\", \"2022-05-26\", \"2022-05-27\", \"2022-05-31\", \"2022-06-01\", \"2022-06-02\", \"2022-06-03\", \"2022-06-06\", \n",
    "                            \"2022-06-07\", \"2022-06-08\", \"2022-06-09\", \"2022-06-10\", \"2022-06-13\", \"2022-06-14\", \"2022-06-15\", \"2022-06-16\", \"2022-06-17\", \"2022-06-21\", \"2022-06-22\", \"2022-06-23\", \"2022-06-24\", \"2022-06-27\", \"2022-06-28\", \n",
    "                            \"2022-06-29\", \"2022-06-30\", \"2022-07-01\", \"2022-07-05\", \"2022-07-06\", \"2022-07-07\", \"2022-07-08\", \"2022-07-11\", \"2022-07-12\", \"2022-07-13\", \"2022-07-14\", \"2022-07-15\", \"2022-07-18\", \"2022-07-19\", \"2022-07-20\", \n",
    "                            \"2022-07-21\", \"2022-07-22\", \"2022-07-25\", \"2022-07-26\", \"2022-07-27\", \"2022-07-28\", \"2022-07-29\", \"2022-08-01\", \"2022-08-02\", \"2022-08-03\", \"2022-08-04\", \"2022-08-05\", \"2022-08-08\", \"2022-08-09\", \"2022-08-10\", \n",
    "                            \"2022-08-11\", \"2022-08-12\", \"2022-08-15\", \"2022-08-16\", \"2022-08-17\", \"2022-08-18\", \"2022-08-19\", \"2022-08-22\", \"2022-08-23\", \"2022-08-24\", \"2022-08-25\", \"2022-08-26\", \"2022-08-29\", \"2022-08-30\", \"2022-08-31\", \n",
    "                            \"2022-09-01\", \"2022-09-02\", \"2022-09-06\", \"2022-09-07\", \"2022-09-08\", \"2022-09-09\", \"2022-09-12\", \"2022-09-13\", \"2022-09-14\", \"2022-09-15\", \"2022-09-16\", \"2022-09-19\", \"2022-09-20\", \"2022-09-21\", \"2022-09-22\", \n",
    "                            \"2022-09-23\", \"2022-09-26\", \"2022-09-27\", \"2022-09-28\", \"2022-09-29\", \"2022-09-30\", \"2022-10-03\", \"2022-10-04\", \"2022-10-05\", \"2022-10-06\", \"2022-10-07\", \"2022-10-10\", \"2022-10-11\", \"2022-10-12\", \"2022-10-13\", \n",
    "                            \"2022-10-14\", \"2022-10-17\", \"2022-10-18\", \"2022-10-19\", \"2022-10-20\", \"2022-10-21\", \"2022-10-24\", \"2022-10-25\", \"2022-10-26\", \"2022-10-27\", \"2022-10-28\", \"2022-10-31\", \"2022-11-01\", \"2022-11-02\", \"2022-11-03\", \n",
    "                            \"2022-11-04\", \"2022-11-07\", \"2022-11-08\", \"2022-11-09\", \"2022-11-10\", \"2022-11-11\", \"2022-11-14\", \"2022-11-15\", \"2022-11-16\", \"2022-11-17\", \"2022-11-18\", \"2022-11-21\", \"2022-11-22\", \"2022-11-23\", \"2022-11-25\", \n",
    "                            \"2022-11-28\", \"2022-11-29\", \"2022-11-30\", \"2022-12-01\", \"2022-12-02\", \"2022-12-05\", \"2022-12-06\", \"2022-12-07\", \"2022-12-08\", \"2022-12-09\", \"2022-12-12\", \"2022-12-13\", \"2022-12-14\", \"2022-12-15\", \"2022-12-16\", \n",
    "                            \"2022-12-19\", \"2022-12-20\", \"2022-12-21\", \"2022-12-22\", \"2022-12-23\", \"2022-12-27\"]\n",
    "            dts_choose_3 = dts_choose_1[-self.train_his + 1 :] + dts_choose_2\n",
    "            df = df_features\n",
    "            df[\"shouyi\"] = (df[\"open\"] - df[\"prev_close\"]) / df[\"prev_close\"]\n",
    "\n",
    "            param_list = []\n",
    "            for dt_one in tqdm(dts_choose_3):\n",
    "                param_list.append((dts_all, df, dt_one))\n",
    "\n",
    "            pool = multiprocessing.Pool(30)\n",
    "            results = []\n",
    "            for i in range(len(dts_choose_3)):\n",
    "                results.append(pool.apply_async(fun_similar, param_list[i]))\n",
    "            pool.close()\n",
    "            pool.join()\n",
    "            matrx_1 = []\n",
    "            for res in results:\n",
    "                matrx_1.append(res.get())\n",
    "            matrx_2 = []\n",
    "            for one in range(len(dts_choose_2)):\n",
    "                matrx_2.append(matrx_1[one : one + self.train_his])\n",
    "            matrx_1 = np.array(matrx_2)\n",
    "            np.save(\n",
    "                self.root_data_path + \"matrx_\" + str(self.train_his) + \"_train.npy\",\n",
    "                matrx_1,\n",
    "            )\n",
    "            print(matrx_1.shape)\n",
    "\n",
    "        N = len(stock_choose)\n",
    "        F = len(self.feature_cols)\n",
    "        Fixed_Matrices = [matrx]\n",
    "        Matrix_Weights = [1]\n",
    "\n",
    "        x_train = tf.constant(X_train, dtype=tf.float32)\n",
    "        y_train = tf.constant(Y_train, dtype=tf.float32)\n",
    "        x_train_matrx = tf.constant(matrx_1, dtype=tf.float32)\n",
    "        print(X_train.shape, Y_train.shape, x_train_matrx.shape)\n",
    "\n",
    "        for model_num in range(self.number_of_models[0], self.number_of_models[-1]):\n",
    "            print(\"###\" + str(\"2022-12-31\") + \"###model_num=\" + str(model_num))\n",
    "\n",
    "            for epoch in self.epoches_list:\n",
    "                tf.keras.backend.clear_session()\n",
    "                model = GCGRU(\n",
    "                    N,\n",
    "                    F,\n",
    "                    self.P,\n",
    "                    self.Units_GCN,\n",
    "                    self.Units_GRU,\n",
    "                    self.Units_FC,\n",
    "                    Fixed_Matrices,\n",
    "                    Matrix_Weights,\n",
    "                    self.Is_Dyn,\n",
    "                )\n",
    "                model.build(input_shape=[(None, self.P, N, F), (None, self.P, N, N)])\n",
    "                model.summary()\n",
    "                model.compile(\n",
    "                    loss=\"mean_squared_error\",\n",
    "                    optimizer=tf.keras.optimizers.Adam(learning_rate=0.00002),\n",
    "                    metrics=[\"mae\"],\n",
    "                )\n",
    "\n",
    "                model_file_path_last = self.model_file_path.replace(\n",
    "                    \"-n0\", \"-n\" + str(model_num)\n",
    "                )\n",
    "                model_file_path_last = model_file_path_last.replace(\n",
    "                    \"stockrnn_basic_model-\" + str(\"2022-12-31\") + \".h5\", \"\"\n",
    "                )\n",
    "                model_file_path_last = (\n",
    "                    model_file_path_last\n",
    "                    + str(\"2022-12-31\")\n",
    "                    + \"_epochs_\"\n",
    "                    + str(epoch)\n",
    "                    + \"/\"\n",
    "                )\n",
    "\n",
    "                if not os.path.exists(model_file_path_last):\n",
    "                    os.makedirs(model_file_path_last)\n",
    "\n",
    "                model_checkpoint = tf.keras.callbacks.ModelCheckpoint(\n",
    "                    filepath=model_file_path_last + \"GCNGRU.weights.h5\",\n",
    "                    monitor=\"loss\",\n",
    "                    save_weights_only=True,\n",
    "                    save_best_only=True,\n",
    "                )\n",
    "                model.fit(\n",
    "                    [x_train, x_train_matrx],\n",
    "                    y_train,\n",
    "                    batch_size=self.batch_size,\n",
    "                    epochs=epoch,\n",
    "                    callbacks=[model_checkpoint],\n",
    "                )\n",
    "\n",
    "    def process(\n",
    "        self,\n",
    "    ):\n",
    "\n",
    "        def internal_run(): \n",
    "            matrx, matrx_1, stock_choose, X_pred, origin_idx_pred = (\n",
    "                self.construct_pred_data()\n",
    "            )\n",
    "            print(X_pred.shape, matrx_1.shape)\n",
    "            x_pred = tf.constant(X_pred, dtype=tf.float32)\n",
    "            x_pred_matrx = tf.constant(matrx_1, dtype=tf.float32)\n",
    "            print(x_pred.shape, x_pred_matrx.shape)\n",
    "\n",
    "            N = len(stock_choose)\n",
    "            F = len(self.feature_cols)\n",
    "            Fixed_Matrices = [matrx]\n",
    "            Matrix_Weights = [1]\n",
    "            for number in range(self.number_of_models[0], self.number_of_models[-1]):\n",
    "                print(\"predict data with model {}\\t\".format(number))\n",
    "                \n",
    "                model_weights_root = \"/kaggle/input/bmp/keras/default/1/nasdaq100/NASDAQ100_T_3_his_15_P_15/sub_model_data/sub_model_data/stockrnn-basic-model-n\" + str(number)\n",
    "                for epoch in self.epoches_list:\n",
    "                    model_file_path_last = self.model_file_path.replace(\n",
    "                        \"-n0\", \"-n\" + str(number)\n",
    "                    )\n",
    "                    model_file_path_last = model_file_path_last.replace(\n",
    "                        \"stockrnn_basic_model-\" + str(self.model_dt) + \".h5\", \"\"\n",
    "                    )\n",
    "                    model_file_path_last = (\n",
    "                        model_file_path_last\n",
    "                        + str(self.model_dt)\n",
    "                        + \"_epochs_\"\n",
    "                        + str(epoch)\n",
    "                    )\n",
    "\n",
    "                    tf.keras.backend.clear_session()\n",
    "\n",
    "                    model = GCGRU(\n",
    "                        N,\n",
    "                        F,\n",
    "                        self.P,\n",
    "                        self.Units_GCN,\n",
    "                        self.Units_GRU,\n",
    "                        self.Units_FC,\n",
    "                        Fixed_Matrices,\n",
    "                        Matrix_Weights,\n",
    "                        self.Is_Dyn,\n",
    "                    )\n",
    "\n",
    "                    model.build(\n",
    "                        input_shape=[(None, self.P, N, F), (None, self.P, N, N)]\n",
    "                    )\n",
    "                    \n",
    "                    model_weights_path = model_weights_root + \"/models/\" +  \"2022-12-31_epochs_\" + str(epoch) + \"/GCNGRU.weights.h5\"\n",
    "                    model.load_weights(model_weights_path)\n",
    "#                     model.load_weights(model_file_path_last + \"/GCNGRU.weights.h5\")\n",
    "                    \n",
    "#                     print(model_file_path_last + \"/GCNGRU.weights.h5\")\n",
    "                    print(model_weights_path)\n",
    "    \n",
    "                    pred_list = model.predict([x_pred, x_pred_matrx])\n",
    "                    pred_list = pred_list.tolist()\n",
    "                    pred_all = [\n",
    "                        \"2023-01-03.csv\", \"2023-01-04.csv\", \"2023-01-05.csv\", \"2023-01-06.csv\", \"2023-01-09.csv\", \"2023-01-10.csv\", \"2023-01-11.csv\", \"2023-01-12.csv\", \"2023-01-13.csv\", \"2023-01-17.csv\",\n",
    "                        \"2023-01-18.csv\", \"2023-01-19.csv\", \"2023-01-20.csv\", \"2023-01-23.csv\", \"2023-01-24.csv\", \"2023-01-25.csv\", \"2023-01-26.csv\", \"2023-01-27.csv\", \"2023-01-30.csv\", \"2023-01-31.csv\", \n",
    "                        \"2023-02-01.csv\", \"2023-02-02.csv\", \"2023-02-03.csv\", \"2023-02-06.csv\", \"2023-02-07.csv\", \"2023-02-08.csv\", \"2023-02-09.csv\", \"2023-02-10.csv\", \"2023-02-13.csv\", \"2023-02-14.csv\",\n",
    "                        \"2023-02-15.csv\", \"2023-02-16.csv\", \"2023-02-17.csv\", \"2023-02-21.csv\", \"2023-02-22.csv\", \"2023-02-23.csv\", \"2023-02-24.csv\", \"2023-02-27.csv\", \"2023-02-28.csv\", \"2023-03-01.csv\",\n",
    "                        \"2023-03-02.csv\", \"2023-03-03.csv\", \"2023-03-06.csv\", \"2023-03-07.csv\", \"2023-03-08.csv\", \"2023-03-09.csv\", \"2023-03-10.csv\", \"2023-03-13.csv\", \"2023-03-14.csv\", \"2023-03-15.csv\",\n",
    "                        \"2023-03-16.csv\", \"2023-03-17.csv\", \"2023-03-20.csv\", \"2023-03-21.csv\", \"2023-03-22.csv\", \"2023-03-23.csv\", \"2023-03-24.csv\", \"2023-03-27.csv\", \"2023-03-28.csv\", \"2023-03-29.csv\",\n",
    "                        \"2023-03-30.csv\", \"2023-03-31.csv\", \"2023-04-03.csv\", \"2023-04-04.csv\", \"2023-04-05.csv\", \"2023-04-06.csv\", \"2023-04-10.csv\", \"2023-04-11.csv\", \"2023-04-12.csv\", \"2023-04-13.csv\",\n",
    "                        \"2023-04-14.csv\", \"2023-04-17.csv\", \"2023-04-18.csv\", \"2023-04-19.csv\", \"2023-04-20.csv\", \"2023-04-21.csv\", \"2023-04-24.csv\", \"2023-04-25.csv\", \"2023-04-26.csv\", \"2023-04-27.csv\",\n",
    "                        \"2023-04-28.csv\", \"2023-05-01.csv\", \"2023-05-02.csv\", \"2023-05-03.csv\", \"2023-05-04.csv\", \"2023-05-05.csv\", \"2023-05-08.csv\", \"2023-05-09.csv\", \"2023-05-10.csv\", \"2023-05-11.csv\",\n",
    "                        \"2023-05-12.csv\", \"2023-05-15.csv\", \"2023-05-16.csv\", \"2023-05-17.csv\", \"2023-05-18.csv\", \"2023-05-19.csv\", \"2023-05-22.csv\", \"2023-05-23.csv\", \"2023-05-24.csv\", \"2023-05-25.csv\",\n",
    "                        \"2023-05-26.csv\", \"2023-05-30.csv\", \"2023-05-31.csv\", \"2023-06-01.csv\", \"2023-06-02.csv\", \"2023-06-05.csv\", \"2023-06-06.csv\", \"2023-06-07.csv\", \"2023-06-08.csv\", \"2023-06-09.csv\",\n",
    "                        \"2023-06-12.csv\", \"2023-06-13.csv\", \"2023-06-14.csv\", \"2023-06-15.csv\", \"2023-06-16.csv\", \"2023-06-20.csv\", \"2023-06-21.csv\", \"2023-06-22.csv\", \"2023-06-23.csv\", \"2023-06-26.csv\",\n",
    "                        \"2023-06-27.csv\", \"2023-06-28.csv\", \"2023-06-29.csv\", \"2023-06-30.csv\", \"2023-07-03.csv\", \"2023-07-05.csv\", \"2023-07-06.csv\", \"2023-07-07.csv\", \"2023-07-10.csv\", \"2023-07-11.csv\",\n",
    "                        \"2023-07-12.csv\", \"2023-07-13.csv\", \"2023-07-14.csv\", \"2023-07-17.csv\", \"2023-07-18.csv\", \"2023-07-19.csv\", \"2023-07-20.csv\", \"2023-07-21.csv\", \"2023-07-24.csv\", \"2023-07-25.csv\",\n",
    "                        \"2023-07-26.csv\", \"2023-07-27.csv\", \"2023-07-28.csv\", \"2023-07-31.csv\", \"2023-08-01.csv\", \"2023-08-02.csv\", \"2023-08-03.csv\", \"2023-08-04.csv\", \"2023-08-07.csv\", \"2023-08-08.csv\",\n",
    "                        \"2023-08-09.csv\", \"2023-08-10.csv\", \"2023-08-11.csv\", \"2023-08-14.csv\", \"2023-08-15.csv\", \"2023-08-16.csv\", \"2023-08-17.csv\", \"2023-08-18.csv\", \"2023-08-21.csv\", \"2023-08-22.csv\",\n",
    "                        \"2023-08-23.csv\", \"2023-08-24.csv\", \"2023-08-25.csv\", \"2023-08-28.csv\", \"2023-08-29.csv\", \"2023-08-30.csv\", \"2023-08-31.csv\", \"2023-09-01.csv\", \"2023-09-05.csv\", \"2023-09-06.csv\",\n",
    "                        \"2023-09-07.csv\", \"2023-09-08.csv\", \"2023-09-11.csv\", \"2023-09-12.csv\", \"2023-09-13.csv\", \"2023-09-14.csv\", \"2023-09-15.csv\", \"2023-09-18.csv\", \"2023-09-19.csv\", \"2023-09-20.csv\",\n",
    "                        \"2023-09-21.csv\", \"2023-09-22.csv\", \"2023-09-25.csv\", \"2023-09-26.csv\", \"2023-09-27.csv\", \"2023-09-28.csv\", \"2023-09-29.csv\", \"2023-10-02.csv\", \"2023-10-03.csv\", \"2023-10-04.csv\", \n",
    "                        \"2023-10-05.csv\", \"2023-10-06.csv\", \"2023-10-09.csv\", \"2023-10-10.csv\", \"2023-10-11.csv\", \"2023-10-12.csv\", \"2023-10-13.csv\", \"2023-10-16.csv\", \"2023-10-17.csv\", \"2023-10-18.csv\",\n",
    "                        \"2023-10-19.csv\", \"2023-10-20.csv\", \"2023-10-23.csv\", \"2023-10-24.csv\", \"2023-10-25.csv\", \"2023-10-26.csv\", \"2023-10-27.csv\", \"2023-10-30.csv\", \"2023-10-31.csv\", \"2023-11-01.csv\",\n",
    "                        \"2023-11-02.csv\", \"2023-11-03.csv\", \"2023-11-06.csv\", \"2023-11-07.csv\", \"2023-11-08.csv\", \"2023-11-09.csv\", \"2023-11-10.csv\", \"2023-11-13.csv\", \"2023-11-14.csv\", \"2023-11-15.csv\",\n",
    "                        \"2023-11-16.csv\", \"2023-11-17.csv\", \"2023-11-20.csv\", \"2023-11-21.csv\", \"2023-11-22.csv\", \"2023-11-24.csv\", \"2023-11-27.csv\", \"2023-11-28.csv\", \"2023-11-29.csv\", \"2023-11-30.csv\",\n",
    "                        \"2023-12-01.csv\", \"2023-12-04.csv\", \"2023-12-05.csv\", \"2023-12-06.csv\", \"2023-12-07.csv\", \"2023-12-08.csv\", \"2023-12-11.csv\", \"2023-12-12.csv\", \"2023-12-13.csv\", \"2023-12-14.csv\",\n",
    "                        \"2023-12-15.csv\", \"2023-12-18.csv\", \"2023-12-19.csv\", \"2023-12-20.csv\", \"2023-12-21.csv\", \"2023-12-22.csv\", \"2023-12-26.csv\", \"2023-12-27.csv\", \"2023-12-28.csv\", \"2023-12-29.csv\"]\n",
    "                    pred_save_path = (\n",
    "                        model_file_path_last.replace(str(self.model_dt) + \"_\", \"\") + \"/\"\n",
    "                    )\n",
    "\n",
    "                    if not os.path.exists(pred_save_path):\n",
    "                        os.makedirs(pred_save_path)\n",
    "                    \n",
    "                    print(\"pred_list_len : \", len(pred_list))\n",
    "                    for i in range(len(pred_list)):\n",
    "                        data_all = []\n",
    "#                         print(\"## i : \", i  , \"pred_list[i]_len : \", len(pred_list[i]))\n",
    "                        for j in range(len(pred_list[i])):\n",
    "                            \n",
    "                            one = []\n",
    "                            one.append(stock_choose[j])\n",
    "                            one.append(pred_all[i][0:10])\n",
    "                            one.append(pred_list[i][j])\n",
    "                            data_all.append(one)\n",
    "                        df = pd.DataFrame(\n",
    "                            columns=[\"kdcode\", \"dt\", \"score\"], data=data_all\n",
    "                        )\n",
    "                        df = df.sort_values([\"kdcode\", \"dt\"])\n",
    "                        df.to_csv(\n",
    "                            pred_save_path + pred_all[i],\n",
    "                            header=True,\n",
    "                            index=False,\n",
    "                            encoding=\"utf_8_sig\",\n",
    "                        )\n",
    "\n",
    "        def get_all_predict_data(path1, file_name, dict_day):\n",
    "            f2 = open(path1 + file_name, \"r\")\n",
    "            lines = f2.readlines()\n",
    "            for line3 in lines:\n",
    "                line3 = line3.strip()\n",
    "                line3 = line3.split(\",\")\n",
    "                if line3[1] == \"dt\":\n",
    "                    continue\n",
    "                else:\n",
    "                    dict_day.setdefault(line3[0], []).append(line3[2])\n",
    "            return dict_day\n",
    "\n",
    "        def cal_ave(value):\n",
    "            for i in range(len(value)):\n",
    "                value[i] = float(value[i])\n",
    "            return np.mean(value)\n",
    "\n",
    "        def combine():\n",
    "            predict_files_path = self.predict_folder_path.replace(\n",
    "                \"prediction\", \"models/epochs_\" + str(self.epoches_list[0])\n",
    "            )\n",
    "            files = os.listdir(predict_files_path)\n",
    "            days_all_last = sorted(files)\n",
    "            for i in tqdm(range(len(days_all_last))):\n",
    "                print(\"calculate last prediction data in {}\".format(days_all_last[i]))\n",
    "                dict_day = {}\n",
    "                for k in self.epoches_list:\n",
    "                    for j in range(self.number_of_models[1]):\n",
    "                        path = (\n",
    "                            self.predict_folder_path.replace(\n",
    "                                \"-model-n0\", \"-model-n\" + str(j)\n",
    "                            )\n",
    "                            + \"/\"\n",
    "                        )\n",
    "                        path = path.replace(\"prediction\", \"models/epochs_\" + str(k))\n",
    "                        dict_day = get_all_predict_data(\n",
    "                            path, days_all_last[i], dict_day\n",
    "                        )\n",
    "                    data_all = []\n",
    "                    for key in dict_day:\n",
    "                        one = []\n",
    "                        one.append(key)\n",
    "                        one.append(str(days_all_last[i])[0:10])\n",
    "                        one.append(cal_ave(dict_day[key]))\n",
    "                        data_all.append(one)\n",
    "                    df = pd.DataFrame(columns=[\"kdcode\", \"dt\", \"score\"], data=data_all)\n",
    "                    df.to_csv(\n",
    "                        self.predict_folder_save\n",
    "                        + str(k)\n",
    "                        + \"/prediction/\"\n",
    "                        + days_all_last[i],\n",
    "                        header=True,\n",
    "                        index=False,\n",
    "                        encoding=\"utf_8_sig\",\n",
    "                    )\n",
    "\n",
    "        internal_run()\n",
    "        combine()\n"
   ]
  },
  {
   "cell_type": "code",
   "execution_count": 7,
   "id": "7c02345e",
   "metadata": {
    "execution": {
     "iopub.execute_input": "2024-11-12T10:45:28.708082Z",
     "iopub.status.busy": "2024-11-12T10:45:28.707303Z",
     "iopub.status.idle": "2024-11-12T10:45:28.720041Z",
     "shell.execute_reply": "2024-11-12T10:45:28.718814Z"
    },
    "papermill": {
     "duration": 0.023454,
     "end_time": "2024-11-12T10:45:28.722816",
     "exception": false,
     "start_time": "2024-11-12T10:45:28.699362",
     "status": "completed"
    },
    "tags": []
   },
   "outputs": [],
   "source": [
    "def fun_train_pred(\n",
    "    CUDA_VISIBLE_DEVICES,\n",
    "    root_data_path,\n",
    "    T,\n",
    "    train_his,\n",
    "    epoches_list,\n",
    "    P,\n",
    "    Is_Dyn,\n",
    "    Units_GCN,\n",
    "    Units_GRU,\n",
    "    Units_FC,\n",
    "    number_of_models,\n",
    "    model_data_path,\n",
    "    batch_size,\n",
    "    model_dt,\n",
    "    s_dt,\n",
    "    e_dt,\n",
    "):\n",
    "    model = StockrnnBasicModel(\n",
    "        model_dt=model_dt,\n",
    "        CUDA_VISIBLE_DEVICES=CUDA_VISIBLE_DEVICES,\n",
    "        root_data_path=root_data_path,\n",
    "        T=T,\n",
    "        train_his=train_his,\n",
    "        epoches_list=epoches_list,\n",
    "        P=P,\n",
    "        Is_Dyn=Is_Dyn,\n",
    "        Units_GCN=Units_GCN,\n",
    "        Units_GRU=Units_GRU,\n",
    "        Units_FC=Units_FC,\n",
    "        number_of_models=number_of_models,\n",
    "        model_data_path=model_data_path,\n",
    "        batch_size=batch_size,\n",
    "    )\n",
    "#     model.train()\n",
    "    model.process()\n",
    "\n",
    "\n",
    "def fun_last(\n",
    "    root_data_path, T, train_his, epoches_list, P, number_of_models, model_data_path\n",
    "):\n",
    "    batch_size = 128\n",
    "    root_data_path = root_path + root_data_path + \"/\"\n",
    "    if not os.path.exists(root_data_path):\n",
    "        os.makedirs(root_data_path)\n",
    "    model_data_path = root_path + model_data_path + \"/\"\n",
    "    if not os.path.exists(model_data_path):\n",
    "        os.makedirs(model_data_path)\n",
    "#     Units_GCN = [20, 15]\n",
    "#     Units_GRU = [12]\n",
    "#     Units_FC = [10, 1]\n",
    "    Units_GCN=[50, 40]\n",
    "    Units_GRU=[30, 20]\n",
    "    Units_FC=[10, 1]\n",
    "    Is_Dyn = False\n",
    "    CUDA_VISIBLE_DEVICES = gpu_id\n",
    "\n",
    "    model_dt, s_dt, e_dt = \"2022-12-31\", \"2023-01-02\", \"2023-12-29\"\n",
    "    fun_train_pred(\n",
    "        CUDA_VISIBLE_DEVICES,\n",
    "        root_data_path,\n",
    "        T,\n",
    "        train_his,\n",
    "        epoches_list,\n",
    "        P,\n",
    "        Is_Dyn,\n",
    "        Units_GCN,\n",
    "        Units_GRU,\n",
    "        Units_FC,\n",
    "        number_of_models,\n",
    "        model_data_path,\n",
    "        batch_size,\n",
    "        model_dt,\n",
    "        s_dt,\n",
    "        e_dt,\n",
    "    )"
   ]
  },
  {
   "cell_type": "code",
   "execution_count": 8,
   "id": "0553db9a",
   "metadata": {
    "execution": {
     "iopub.execute_input": "2024-11-12T10:45:28.738546Z",
     "iopub.status.busy": "2024-11-12T10:45:28.737408Z",
     "iopub.status.idle": "2024-11-12T10:53:08.352866Z",
     "shell.execute_reply": "2024-11-12T10:53:08.351689Z"
    },
    "papermill": {
     "duration": 459.626272,
     "end_time": "2024-11-12T10:53:08.355653",
     "exception": false,
     "start_time": "2024-11-12T10:45:28.729381",
     "status": "completed"
    },
    "tags": []
   },
   "outputs": [
    {
     "name": "stdout",
     "output_type": "stream",
     "text": [
      "root_data_path为: NASDAQ100_T_3_his_15_P_15\n",
      "model_data_path为: NASDAQ100_T_3_his_15_P_15\n"
     ]
    },
    {
     "name": "stderr",
     "output_type": "stream",
     "text": [
      "/tmp/ipykernel_17/1419748417.py:125: SettingWithCopyWarning: \n",
      "A value is trying to be set on a copy of a slice from a DataFrame\n",
      "\n",
      "See the caveats in the documentation: https://pandas.pydata.org/pandas-docs/stable/user_guide/indexing.html#returning-a-view-versus-a-copy\n",
      "  df_origin_features.drop(columns=[\"prev_close\", \"adjfactor\"], inplace=True)\n"
     ]
    },
    {
     "name": "stdout",
     "output_type": "stream",
     "text": [
      "# groups =  139\n",
      "(250, 139, 15, 5)\n",
      "X_pred shape :  (250, 15, 139, 5)\n"
     ]
    },
    {
     "name": "stderr",
     "output_type": "stream",
     "text": [
      "100%|██████████| 139/139 [00:28<00:00,  4.91it/s]\n",
      "/tmp/ipykernel_17/1419748417.py:276: SettingWithCopyWarning: \n",
      "A value is trying to be set on a copy of a slice from a DataFrame\n",
      "\n",
      "See the caveats in the documentation: https://pandas.pydata.org/pandas-docs/stable/user_guide/indexing.html#returning-a-view-versus-a-copy\n",
      "  df_origin_features.drop(columns=[\"adjfactor\"], inplace=True)\n",
      "100%|██████████| 264/264 [00:00<00:00, 748173.15it/s]\n"
     ]
    },
    {
     "name": "stdout",
     "output_type": "stream",
     "text": [
      "matrx_1 shape :  (250, 15, 139, 139)\n",
      "(250, 15, 139, 5) (250, 15, 139, 139)\n",
      "(250, 15, 139, 5) (250, 15, 139, 139)\n",
      "predict data with model 0\t\n",
      "/kaggle/input/bmp/keras/default/1/nasdaq100/NASDAQ100_T_3_his_15_P_15/sub_model_data/sub_model_data/stockrnn-basic-model-n0/models/2022-12-31_epochs_5/GCNGRU.weights.h5\n",
      "\u001b[1m8/8\u001b[0m \u001b[32m━━━━━━━━━━━━━━━━━━━━\u001b[0m\u001b[37m\u001b[0m \u001b[1m4s\u001b[0m 306ms/step\n",
      "pred_list_len :  250\n",
      "/kaggle/input/bmp/keras/default/1/nasdaq100/NASDAQ100_T_3_his_15_P_15/sub_model_data/sub_model_data/stockrnn-basic-model-n0/models/2022-12-31_epochs_6/GCNGRU.weights.h5\n",
      "\u001b[1m8/8\u001b[0m \u001b[32m━━━━━━━━━━━━━━━━━━━━\u001b[0m\u001b[37m\u001b[0m \u001b[1m4s\u001b[0m 311ms/step\n",
      "pred_list_len :  250\n",
      "/kaggle/input/bmp/keras/default/1/nasdaq100/NASDAQ100_T_3_his_15_P_15/sub_model_data/sub_model_data/stockrnn-basic-model-n0/models/2022-12-31_epochs_8/GCNGRU.weights.h5\n",
      "\u001b[1m8/8\u001b[0m \u001b[32m━━━━━━━━━━━━━━━━━━━━\u001b[0m\u001b[37m\u001b[0m \u001b[1m4s\u001b[0m 308ms/step\n",
      "pred_list_len :  250\n",
      "/kaggle/input/bmp/keras/default/1/nasdaq100/NASDAQ100_T_3_his_15_P_15/sub_model_data/sub_model_data/stockrnn-basic-model-n0/models/2022-12-31_epochs_10/GCNGRU.weights.h5\n",
      "\u001b[1m8/8\u001b[0m \u001b[32m━━━━━━━━━━━━━━━━━━━━\u001b[0m\u001b[37m\u001b[0m \u001b[1m4s\u001b[0m 347ms/step\n",
      "pred_list_len :  250\n",
      "/kaggle/input/bmp/keras/default/1/nasdaq100/NASDAQ100_T_3_his_15_P_15/sub_model_data/sub_model_data/stockrnn-basic-model-n0/models/2022-12-31_epochs_12/GCNGRU.weights.h5\n",
      "\u001b[1m8/8\u001b[0m \u001b[32m━━━━━━━━━━━━━━━━━━━━\u001b[0m\u001b[37m\u001b[0m \u001b[1m4s\u001b[0m 311ms/step\n",
      "pred_list_len :  250\n",
      "/kaggle/input/bmp/keras/default/1/nasdaq100/NASDAQ100_T_3_his_15_P_15/sub_model_data/sub_model_data/stockrnn-basic-model-n0/models/2022-12-31_epochs_13/GCNGRU.weights.h5\n",
      "\u001b[1m8/8\u001b[0m \u001b[32m━━━━━━━━━━━━━━━━━━━━\u001b[0m\u001b[37m\u001b[0m \u001b[1m4s\u001b[0m 314ms/step\n",
      "pred_list_len :  250\n",
      "/kaggle/input/bmp/keras/default/1/nasdaq100/NASDAQ100_T_3_his_15_P_15/sub_model_data/sub_model_data/stockrnn-basic-model-n0/models/2022-12-31_epochs_14/GCNGRU.weights.h5\n",
      "\u001b[1m8/8\u001b[0m \u001b[32m━━━━━━━━━━━━━━━━━━━━\u001b[0m\u001b[37m\u001b[0m \u001b[1m4s\u001b[0m 303ms/step\n",
      "pred_list_len :  250\n",
      "/kaggle/input/bmp/keras/default/1/nasdaq100/NASDAQ100_T_3_his_15_P_15/sub_model_data/sub_model_data/stockrnn-basic-model-n0/models/2022-12-31_epochs_15/GCNGRU.weights.h5\n",
      "\u001b[1m8/8\u001b[0m \u001b[32m━━━━━━━━━━━━━━━━━━━━\u001b[0m\u001b[37m\u001b[0m \u001b[1m4s\u001b[0m 313ms/step\n",
      "pred_list_len :  250\n",
      "predict data with model 1\t\n",
      "/kaggle/input/bmp/keras/default/1/nasdaq100/NASDAQ100_T_3_his_15_P_15/sub_model_data/sub_model_data/stockrnn-basic-model-n1/models/2022-12-31_epochs_5/GCNGRU.weights.h5\n",
      "\u001b[1m8/8\u001b[0m \u001b[32m━━━━━━━━━━━━━━━━━━━━\u001b[0m\u001b[37m\u001b[0m \u001b[1m4s\u001b[0m 302ms/step\n",
      "pred_list_len :  250\n",
      "/kaggle/input/bmp/keras/default/1/nasdaq100/NASDAQ100_T_3_his_15_P_15/sub_model_data/sub_model_data/stockrnn-basic-model-n1/models/2022-12-31_epochs_6/GCNGRU.weights.h5\n",
      "\u001b[1m8/8\u001b[0m \u001b[32m━━━━━━━━━━━━━━━━━━━━\u001b[0m\u001b[37m\u001b[0m \u001b[1m4s\u001b[0m 310ms/step\n",
      "pred_list_len :  250\n",
      "/kaggle/input/bmp/keras/default/1/nasdaq100/NASDAQ100_T_3_his_15_P_15/sub_model_data/sub_model_data/stockrnn-basic-model-n1/models/2022-12-31_epochs_8/GCNGRU.weights.h5\n",
      "\u001b[1m8/8\u001b[0m \u001b[32m━━━━━━━━━━━━━━━━━━━━\u001b[0m\u001b[37m\u001b[0m \u001b[1m4s\u001b[0m 294ms/step\n",
      "pred_list_len :  250\n",
      "/kaggle/input/bmp/keras/default/1/nasdaq100/NASDAQ100_T_3_his_15_P_15/sub_model_data/sub_model_data/stockrnn-basic-model-n1/models/2022-12-31_epochs_10/GCNGRU.weights.h5\n",
      "\u001b[1m8/8\u001b[0m \u001b[32m━━━━━━━━━━━━━━━━━━━━\u001b[0m\u001b[37m\u001b[0m \u001b[1m4s\u001b[0m 303ms/step\n",
      "pred_list_len :  250\n",
      "/kaggle/input/bmp/keras/default/1/nasdaq100/NASDAQ100_T_3_his_15_P_15/sub_model_data/sub_model_data/stockrnn-basic-model-n1/models/2022-12-31_epochs_12/GCNGRU.weights.h5\n",
      "\u001b[1m8/8\u001b[0m \u001b[32m━━━━━━━━━━━━━━━━━━━━\u001b[0m\u001b[37m\u001b[0m \u001b[1m4s\u001b[0m 301ms/step\n",
      "pred_list_len :  250\n",
      "/kaggle/input/bmp/keras/default/1/nasdaq100/NASDAQ100_T_3_his_15_P_15/sub_model_data/sub_model_data/stockrnn-basic-model-n1/models/2022-12-31_epochs_13/GCNGRU.weights.h5\n",
      "\u001b[1m8/8\u001b[0m \u001b[32m━━━━━━━━━━━━━━━━━━━━\u001b[0m\u001b[37m\u001b[0m \u001b[1m4s\u001b[0m 304ms/step\n",
      "pred_list_len :  250\n",
      "/kaggle/input/bmp/keras/default/1/nasdaq100/NASDAQ100_T_3_his_15_P_15/sub_model_data/sub_model_data/stockrnn-basic-model-n1/models/2022-12-31_epochs_14/GCNGRU.weights.h5\n",
      "\u001b[1m8/8\u001b[0m \u001b[32m━━━━━━━━━━━━━━━━━━━━\u001b[0m\u001b[37m\u001b[0m \u001b[1m4s\u001b[0m 297ms/step\n",
      "pred_list_len :  250\n",
      "/kaggle/input/bmp/keras/default/1/nasdaq100/NASDAQ100_T_3_his_15_P_15/sub_model_data/sub_model_data/stockrnn-basic-model-n1/models/2022-12-31_epochs_15/GCNGRU.weights.h5\n",
      "\u001b[1m8/8\u001b[0m \u001b[32m━━━━━━━━━━━━━━━━━━━━\u001b[0m\u001b[37m\u001b[0m \u001b[1m3s\u001b[0m 292ms/step\n",
      "pred_list_len :  250\n",
      "predict data with model 2\t\n",
      "/kaggle/input/bmp/keras/default/1/nasdaq100/NASDAQ100_T_3_his_15_P_15/sub_model_data/sub_model_data/stockrnn-basic-model-n2/models/2022-12-31_epochs_5/GCNGRU.weights.h5\n",
      "\u001b[1m8/8\u001b[0m \u001b[32m━━━━━━━━━━━━━━━━━━━━\u001b[0m\u001b[37m\u001b[0m \u001b[1m4s\u001b[0m 311ms/step\n",
      "pred_list_len :  250\n",
      "/kaggle/input/bmp/keras/default/1/nasdaq100/NASDAQ100_T_3_his_15_P_15/sub_model_data/sub_model_data/stockrnn-basic-model-n2/models/2022-12-31_epochs_6/GCNGRU.weights.h5\n",
      "\u001b[1m8/8\u001b[0m \u001b[32m━━━━━━━━━━━━━━━━━━━━\u001b[0m\u001b[37m\u001b[0m \u001b[1m3s\u001b[0m 293ms/step\n",
      "pred_list_len :  250\n",
      "/kaggle/input/bmp/keras/default/1/nasdaq100/NASDAQ100_T_3_his_15_P_15/sub_model_data/sub_model_data/stockrnn-basic-model-n2/models/2022-12-31_epochs_8/GCNGRU.weights.h5\n",
      "\u001b[1m8/8\u001b[0m \u001b[32m━━━━━━━━━━━━━━━━━━━━\u001b[0m\u001b[37m\u001b[0m \u001b[1m3s\u001b[0m 292ms/step\n",
      "pred_list_len :  250\n",
      "/kaggle/input/bmp/keras/default/1/nasdaq100/NASDAQ100_T_3_his_15_P_15/sub_model_data/sub_model_data/stockrnn-basic-model-n2/models/2022-12-31_epochs_10/GCNGRU.weights.h5\n",
      "\u001b[1m8/8\u001b[0m \u001b[32m━━━━━━━━━━━━━━━━━━━━\u001b[0m\u001b[37m\u001b[0m \u001b[1m3s\u001b[0m 291ms/step\n",
      "pred_list_len :  250\n",
      "/kaggle/input/bmp/keras/default/1/nasdaq100/NASDAQ100_T_3_his_15_P_15/sub_model_data/sub_model_data/stockrnn-basic-model-n2/models/2022-12-31_epochs_12/GCNGRU.weights.h5\n",
      "\u001b[1m8/8\u001b[0m \u001b[32m━━━━━━━━━━━━━━━━━━━━\u001b[0m\u001b[37m\u001b[0m \u001b[1m4s\u001b[0m 292ms/step\n",
      "pred_list_len :  250\n",
      "/kaggle/input/bmp/keras/default/1/nasdaq100/NASDAQ100_T_3_his_15_P_15/sub_model_data/sub_model_data/stockrnn-basic-model-n2/models/2022-12-31_epochs_13/GCNGRU.weights.h5\n",
      "\u001b[1m8/8\u001b[0m \u001b[32m━━━━━━━━━━━━━━━━━━━━\u001b[0m\u001b[37m\u001b[0m \u001b[1m3s\u001b[0m 289ms/step\n",
      "pred_list_len :  250\n",
      "/kaggle/input/bmp/keras/default/1/nasdaq100/NASDAQ100_T_3_his_15_P_15/sub_model_data/sub_model_data/stockrnn-basic-model-n2/models/2022-12-31_epochs_14/GCNGRU.weights.h5\n",
      "\u001b[1m8/8\u001b[0m \u001b[32m━━━━━━━━━━━━━━━━━━━━\u001b[0m\u001b[37m\u001b[0m \u001b[1m4s\u001b[0m 296ms/step\n",
      "pred_list_len :  250\n",
      "/kaggle/input/bmp/keras/default/1/nasdaq100/NASDAQ100_T_3_his_15_P_15/sub_model_data/sub_model_data/stockrnn-basic-model-n2/models/2022-12-31_epochs_15/GCNGRU.weights.h5\n",
      "\u001b[1m8/8\u001b[0m \u001b[32m━━━━━━━━━━━━━━━━━━━━\u001b[0m\u001b[37m\u001b[0m \u001b[1m4s\u001b[0m 324ms/step\n",
      "pred_list_len :  250\n",
      "predict data with model 3\t\n",
      "/kaggle/input/bmp/keras/default/1/nasdaq100/NASDAQ100_T_3_his_15_P_15/sub_model_data/sub_model_data/stockrnn-basic-model-n3/models/2022-12-31_epochs_5/GCNGRU.weights.h5\n",
      "\u001b[1m8/8\u001b[0m \u001b[32m━━━━━━━━━━━━━━━━━━━━\u001b[0m\u001b[37m\u001b[0m \u001b[1m3s\u001b[0m 293ms/step\n",
      "pred_list_len :  250\n",
      "/kaggle/input/bmp/keras/default/1/nasdaq100/NASDAQ100_T_3_his_15_P_15/sub_model_data/sub_model_data/stockrnn-basic-model-n3/models/2022-12-31_epochs_6/GCNGRU.weights.h5\n",
      "\u001b[1m8/8\u001b[0m \u001b[32m━━━━━━━━━━━━━━━━━━━━\u001b[0m\u001b[37m\u001b[0m \u001b[1m3s\u001b[0m 293ms/step\n",
      "pred_list_len :  250\n",
      "/kaggle/input/bmp/keras/default/1/nasdaq100/NASDAQ100_T_3_his_15_P_15/sub_model_data/sub_model_data/stockrnn-basic-model-n3/models/2022-12-31_epochs_8/GCNGRU.weights.h5\n",
      "\u001b[1m8/8\u001b[0m \u001b[32m━━━━━━━━━━━━━━━━━━━━\u001b[0m\u001b[37m\u001b[0m \u001b[1m4s\u001b[0m 302ms/step\n",
      "pred_list_len :  250\n",
      "/kaggle/input/bmp/keras/default/1/nasdaq100/NASDAQ100_T_3_his_15_P_15/sub_model_data/sub_model_data/stockrnn-basic-model-n3/models/2022-12-31_epochs_10/GCNGRU.weights.h5\n",
      "\u001b[1m8/8\u001b[0m \u001b[32m━━━━━━━━━━━━━━━━━━━━\u001b[0m\u001b[37m\u001b[0m \u001b[1m3s\u001b[0m 290ms/step\n",
      "pred_list_len :  250\n",
      "/kaggle/input/bmp/keras/default/1/nasdaq100/NASDAQ100_T_3_his_15_P_15/sub_model_data/sub_model_data/stockrnn-basic-model-n3/models/2022-12-31_epochs_12/GCNGRU.weights.h5\n",
      "\u001b[1m8/8\u001b[0m \u001b[32m━━━━━━━━━━━━━━━━━━━━\u001b[0m\u001b[37m\u001b[0m \u001b[1m3s\u001b[0m 293ms/step\n",
      "pred_list_len :  250\n",
      "/kaggle/input/bmp/keras/default/1/nasdaq100/NASDAQ100_T_3_his_15_P_15/sub_model_data/sub_model_data/stockrnn-basic-model-n3/models/2022-12-31_epochs_13/GCNGRU.weights.h5\n",
      "\u001b[1m8/8\u001b[0m \u001b[32m━━━━━━━━━━━━━━━━━━━━\u001b[0m\u001b[37m\u001b[0m \u001b[1m3s\u001b[0m 292ms/step\n",
      "pred_list_len :  250\n",
      "/kaggle/input/bmp/keras/default/1/nasdaq100/NASDAQ100_T_3_his_15_P_15/sub_model_data/sub_model_data/stockrnn-basic-model-n3/models/2022-12-31_epochs_14/GCNGRU.weights.h5\n",
      "\u001b[1m8/8\u001b[0m \u001b[32m━━━━━━━━━━━━━━━━━━━━\u001b[0m\u001b[37m\u001b[0m \u001b[1m4s\u001b[0m 313ms/step\n",
      "pred_list_len :  250\n",
      "/kaggle/input/bmp/keras/default/1/nasdaq100/NASDAQ100_T_3_his_15_P_15/sub_model_data/sub_model_data/stockrnn-basic-model-n3/models/2022-12-31_epochs_15/GCNGRU.weights.h5\n",
      "\u001b[1m8/8\u001b[0m \u001b[32m━━━━━━━━━━━━━━━━━━━━\u001b[0m\u001b[37m\u001b[0m \u001b[1m3s\u001b[0m 290ms/step\n",
      "pred_list_len :  250\n",
      "predict data with model 4\t\n",
      "/kaggle/input/bmp/keras/default/1/nasdaq100/NASDAQ100_T_3_his_15_P_15/sub_model_data/sub_model_data/stockrnn-basic-model-n4/models/2022-12-31_epochs_5/GCNGRU.weights.h5\n",
      "\u001b[1m8/8\u001b[0m \u001b[32m━━━━━━━━━━━━━━━━━━━━\u001b[0m\u001b[37m\u001b[0m \u001b[1m3s\u001b[0m 292ms/step\n",
      "pred_list_len :  250\n",
      "/kaggle/input/bmp/keras/default/1/nasdaq100/NASDAQ100_T_3_his_15_P_15/sub_model_data/sub_model_data/stockrnn-basic-model-n4/models/2022-12-31_epochs_6/GCNGRU.weights.h5\n",
      "\u001b[1m8/8\u001b[0m \u001b[32m━━━━━━━━━━━━━━━━━━━━\u001b[0m\u001b[37m\u001b[0m \u001b[1m3s\u001b[0m 285ms/step\n",
      "pred_list_len :  250\n",
      "/kaggle/input/bmp/keras/default/1/nasdaq100/NASDAQ100_T_3_his_15_P_15/sub_model_data/sub_model_data/stockrnn-basic-model-n4/models/2022-12-31_epochs_8/GCNGRU.weights.h5\n",
      "\u001b[1m8/8\u001b[0m \u001b[32m━━━━━━━━━━━━━━━━━━━━\u001b[0m\u001b[37m\u001b[0m \u001b[1m3s\u001b[0m 288ms/step\n",
      "pred_list_len :  250\n",
      "/kaggle/input/bmp/keras/default/1/nasdaq100/NASDAQ100_T_3_his_15_P_15/sub_model_data/sub_model_data/stockrnn-basic-model-n4/models/2022-12-31_epochs_10/GCNGRU.weights.h5\n",
      "\u001b[1m8/8\u001b[0m \u001b[32m━━━━━━━━━━━━━━━━━━━━\u001b[0m\u001b[37m\u001b[0m \u001b[1m3s\u001b[0m 290ms/step\n",
      "pred_list_len :  250\n",
      "/kaggle/input/bmp/keras/default/1/nasdaq100/NASDAQ100_T_3_his_15_P_15/sub_model_data/sub_model_data/stockrnn-basic-model-n4/models/2022-12-31_epochs_12/GCNGRU.weights.h5\n",
      "\u001b[1m8/8\u001b[0m \u001b[32m━━━━━━━━━━━━━━━━━━━━\u001b[0m\u001b[37m\u001b[0m \u001b[1m3s\u001b[0m 285ms/step\n",
      "pred_list_len :  250\n",
      "/kaggle/input/bmp/keras/default/1/nasdaq100/NASDAQ100_T_3_his_15_P_15/sub_model_data/sub_model_data/stockrnn-basic-model-n4/models/2022-12-31_epochs_13/GCNGRU.weights.h5\n",
      "\u001b[1m8/8\u001b[0m \u001b[32m━━━━━━━━━━━━━━━━━━━━\u001b[0m\u001b[37m\u001b[0m \u001b[1m4s\u001b[0m 287ms/step\n",
      "pred_list_len :  250\n",
      "/kaggle/input/bmp/keras/default/1/nasdaq100/NASDAQ100_T_3_his_15_P_15/sub_model_data/sub_model_data/stockrnn-basic-model-n4/models/2022-12-31_epochs_14/GCNGRU.weights.h5\n",
      "\u001b[1m8/8\u001b[0m \u001b[32m━━━━━━━━━━━━━━━━━━━━\u001b[0m\u001b[37m\u001b[0m \u001b[1m4s\u001b[0m 297ms/step\n",
      "pred_list_len :  250\n",
      "/kaggle/input/bmp/keras/default/1/nasdaq100/NASDAQ100_T_3_his_15_P_15/sub_model_data/sub_model_data/stockrnn-basic-model-n4/models/2022-12-31_epochs_15/GCNGRU.weights.h5\n",
      "\u001b[1m8/8\u001b[0m \u001b[32m━━━━━━━━━━━━━━━━━━━━\u001b[0m\u001b[37m\u001b[0m \u001b[1m4s\u001b[0m 300ms/step\n",
      "pred_list_len :  250\n",
      "predict data with model 5\t\n",
      "/kaggle/input/bmp/keras/default/1/nasdaq100/NASDAQ100_T_3_his_15_P_15/sub_model_data/sub_model_data/stockrnn-basic-model-n5/models/2022-12-31_epochs_5/GCNGRU.weights.h5\n",
      "\u001b[1m8/8\u001b[0m \u001b[32m━━━━━━━━━━━━━━━━━━━━\u001b[0m\u001b[37m\u001b[0m \u001b[1m3s\u001b[0m 291ms/step\n",
      "pred_list_len :  250\n",
      "/kaggle/input/bmp/keras/default/1/nasdaq100/NASDAQ100_T_3_his_15_P_15/sub_model_data/sub_model_data/stockrnn-basic-model-n5/models/2022-12-31_epochs_6/GCNGRU.weights.h5\n",
      "\u001b[1m8/8\u001b[0m \u001b[32m━━━━━━━━━━━━━━━━━━━━\u001b[0m\u001b[37m\u001b[0m \u001b[1m3s\u001b[0m 295ms/step\n",
      "pred_list_len :  250\n",
      "/kaggle/input/bmp/keras/default/1/nasdaq100/NASDAQ100_T_3_his_15_P_15/sub_model_data/sub_model_data/stockrnn-basic-model-n5/models/2022-12-31_epochs_8/GCNGRU.weights.h5\n",
      "\u001b[1m8/8\u001b[0m \u001b[32m━━━━━━━━━━━━━━━━━━━━\u001b[0m\u001b[37m\u001b[0m \u001b[1m3s\u001b[0m 294ms/step\n",
      "pred_list_len :  250\n",
      "/kaggle/input/bmp/keras/default/1/nasdaq100/NASDAQ100_T_3_his_15_P_15/sub_model_data/sub_model_data/stockrnn-basic-model-n5/models/2022-12-31_epochs_10/GCNGRU.weights.h5\n",
      "\u001b[1m8/8\u001b[0m \u001b[32m━━━━━━━━━━━━━━━━━━━━\u001b[0m\u001b[37m\u001b[0m \u001b[1m3s\u001b[0m 294ms/step\n",
      "pred_list_len :  250\n",
      "/kaggle/input/bmp/keras/default/1/nasdaq100/NASDAQ100_T_3_his_15_P_15/sub_model_data/sub_model_data/stockrnn-basic-model-n5/models/2022-12-31_epochs_12/GCNGRU.weights.h5\n",
      "\u001b[1m8/8\u001b[0m \u001b[32m━━━━━━━━━━━━━━━━━━━━\u001b[0m\u001b[37m\u001b[0m \u001b[1m3s\u001b[0m 291ms/step\n",
      "pred_list_len :  250\n",
      "/kaggle/input/bmp/keras/default/1/nasdaq100/NASDAQ100_T_3_his_15_P_15/sub_model_data/sub_model_data/stockrnn-basic-model-n5/models/2022-12-31_epochs_13/GCNGRU.weights.h5\n",
      "\u001b[1m8/8\u001b[0m \u001b[32m━━━━━━━━━━━━━━━━━━━━\u001b[0m\u001b[37m\u001b[0m \u001b[1m3s\u001b[0m 294ms/step\n",
      "pred_list_len :  250\n",
      "/kaggle/input/bmp/keras/default/1/nasdaq100/NASDAQ100_T_3_his_15_P_15/sub_model_data/sub_model_data/stockrnn-basic-model-n5/models/2022-12-31_epochs_14/GCNGRU.weights.h5\n",
      "\u001b[1m8/8\u001b[0m \u001b[32m━━━━━━━━━━━━━━━━━━━━\u001b[0m\u001b[37m\u001b[0m \u001b[1m3s\u001b[0m 292ms/step\n",
      "pred_list_len :  250\n",
      "/kaggle/input/bmp/keras/default/1/nasdaq100/NASDAQ100_T_3_his_15_P_15/sub_model_data/sub_model_data/stockrnn-basic-model-n5/models/2022-12-31_epochs_15/GCNGRU.weights.h5\n",
      "\u001b[1m8/8\u001b[0m \u001b[32m━━━━━━━━━━━━━━━━━━━━\u001b[0m\u001b[37m\u001b[0m \u001b[1m3s\u001b[0m 291ms/step\n",
      "pred_list_len :  250\n",
      "predict data with model 6\t\n",
      "/kaggle/input/bmp/keras/default/1/nasdaq100/NASDAQ100_T_3_his_15_P_15/sub_model_data/sub_model_data/stockrnn-basic-model-n6/models/2022-12-31_epochs_5/GCNGRU.weights.h5\n",
      "\u001b[1m8/8\u001b[0m \u001b[32m━━━━━━━━━━━━━━━━━━━━\u001b[0m\u001b[37m\u001b[0m \u001b[1m3s\u001b[0m 291ms/step\n",
      "pred_list_len :  250\n",
      "/kaggle/input/bmp/keras/default/1/nasdaq100/NASDAQ100_T_3_his_15_P_15/sub_model_data/sub_model_data/stockrnn-basic-model-n6/models/2022-12-31_epochs_6/GCNGRU.weights.h5\n",
      "\u001b[1m8/8\u001b[0m \u001b[32m━━━━━━━━━━━━━━━━━━━━\u001b[0m\u001b[37m\u001b[0m \u001b[1m4s\u001b[0m 292ms/step\n",
      "pred_list_len :  250\n",
      "/kaggle/input/bmp/keras/default/1/nasdaq100/NASDAQ100_T_3_his_15_P_15/sub_model_data/sub_model_data/stockrnn-basic-model-n6/models/2022-12-31_epochs_8/GCNGRU.weights.h5\n",
      "\u001b[1m8/8\u001b[0m \u001b[32m━━━━━━━━━━━━━━━━━━━━\u001b[0m\u001b[37m\u001b[0m \u001b[1m4s\u001b[0m 305ms/step\n",
      "pred_list_len :  250\n",
      "/kaggle/input/bmp/keras/default/1/nasdaq100/NASDAQ100_T_3_his_15_P_15/sub_model_data/sub_model_data/stockrnn-basic-model-n6/models/2022-12-31_epochs_10/GCNGRU.weights.h5\n",
      "\u001b[1m8/8\u001b[0m \u001b[32m━━━━━━━━━━━━━━━━━━━━\u001b[0m\u001b[37m\u001b[0m \u001b[1m3s\u001b[0m 297ms/step\n",
      "pred_list_len :  250\n",
      "/kaggle/input/bmp/keras/default/1/nasdaq100/NASDAQ100_T_3_his_15_P_15/sub_model_data/sub_model_data/stockrnn-basic-model-n6/models/2022-12-31_epochs_12/GCNGRU.weights.h5\n",
      "\u001b[1m8/8\u001b[0m \u001b[32m━━━━━━━━━━━━━━━━━━━━\u001b[0m\u001b[37m\u001b[0m \u001b[1m4s\u001b[0m 289ms/step\n",
      "pred_list_len :  250\n",
      "/kaggle/input/bmp/keras/default/1/nasdaq100/NASDAQ100_T_3_his_15_P_15/sub_model_data/sub_model_data/stockrnn-basic-model-n6/models/2022-12-31_epochs_13/GCNGRU.weights.h5\n",
      "\u001b[1m8/8\u001b[0m \u001b[32m━━━━━━━━━━━━━━━━━━━━\u001b[0m\u001b[37m\u001b[0m \u001b[1m3s\u001b[0m 287ms/step\n",
      "pred_list_len :  250\n",
      "/kaggle/input/bmp/keras/default/1/nasdaq100/NASDAQ100_T_3_his_15_P_15/sub_model_data/sub_model_data/stockrnn-basic-model-n6/models/2022-12-31_epochs_14/GCNGRU.weights.h5\n",
      "\u001b[1m8/8\u001b[0m \u001b[32m━━━━━━━━━━━━━━━━━━━━\u001b[0m\u001b[37m\u001b[0m \u001b[1m4s\u001b[0m 292ms/step\n",
      "pred_list_len :  250\n",
      "/kaggle/input/bmp/keras/default/1/nasdaq100/NASDAQ100_T_3_his_15_P_15/sub_model_data/sub_model_data/stockrnn-basic-model-n6/models/2022-12-31_epochs_15/GCNGRU.weights.h5\n",
      "\u001b[1m8/8\u001b[0m \u001b[32m━━━━━━━━━━━━━━━━━━━━\u001b[0m\u001b[37m\u001b[0m \u001b[1m3s\u001b[0m 293ms/step\n",
      "pred_list_len :  250\n",
      "predict data with model 7\t\n",
      "/kaggle/input/bmp/keras/default/1/nasdaq100/NASDAQ100_T_3_his_15_P_15/sub_model_data/sub_model_data/stockrnn-basic-model-n7/models/2022-12-31_epochs_5/GCNGRU.weights.h5\n",
      "\u001b[1m8/8\u001b[0m \u001b[32m━━━━━━━━━━━━━━━━━━━━\u001b[0m\u001b[37m\u001b[0m \u001b[1m4s\u001b[0m 301ms/step\n",
      "pred_list_len :  250\n",
      "/kaggle/input/bmp/keras/default/1/nasdaq100/NASDAQ100_T_3_his_15_P_15/sub_model_data/sub_model_data/stockrnn-basic-model-n7/models/2022-12-31_epochs_6/GCNGRU.weights.h5\n",
      "\u001b[1m8/8\u001b[0m \u001b[32m━━━━━━━━━━━━━━━━━━━━\u001b[0m\u001b[37m\u001b[0m \u001b[1m4s\u001b[0m 321ms/step\n",
      "pred_list_len :  250\n",
      "/kaggle/input/bmp/keras/default/1/nasdaq100/NASDAQ100_T_3_his_15_P_15/sub_model_data/sub_model_data/stockrnn-basic-model-n7/models/2022-12-31_epochs_8/GCNGRU.weights.h5\n",
      "\u001b[1m8/8\u001b[0m \u001b[32m━━━━━━━━━━━━━━━━━━━━\u001b[0m\u001b[37m\u001b[0m \u001b[1m3s\u001b[0m 297ms/step\n",
      "pred_list_len :  250\n",
      "/kaggle/input/bmp/keras/default/1/nasdaq100/NASDAQ100_T_3_his_15_P_15/sub_model_data/sub_model_data/stockrnn-basic-model-n7/models/2022-12-31_epochs_10/GCNGRU.weights.h5\n",
      "\u001b[1m8/8\u001b[0m \u001b[32m━━━━━━━━━━━━━━━━━━━━\u001b[0m\u001b[37m\u001b[0m \u001b[1m3s\u001b[0m 291ms/step\n",
      "pred_list_len :  250\n",
      "/kaggle/input/bmp/keras/default/1/nasdaq100/NASDAQ100_T_3_his_15_P_15/sub_model_data/sub_model_data/stockrnn-basic-model-n7/models/2022-12-31_epochs_12/GCNGRU.weights.h5\n",
      "\u001b[1m8/8\u001b[0m \u001b[32m━━━━━━━━━━━━━━━━━━━━\u001b[0m\u001b[37m\u001b[0m \u001b[1m4s\u001b[0m 292ms/step\n",
      "pred_list_len :  250\n",
      "/kaggle/input/bmp/keras/default/1/nasdaq100/NASDAQ100_T_3_his_15_P_15/sub_model_data/sub_model_data/stockrnn-basic-model-n7/models/2022-12-31_epochs_13/GCNGRU.weights.h5\n",
      "\u001b[1m8/8\u001b[0m \u001b[32m━━━━━━━━━━━━━━━━━━━━\u001b[0m\u001b[37m\u001b[0m \u001b[1m3s\u001b[0m 293ms/step\n",
      "pred_list_len :  250\n",
      "/kaggle/input/bmp/keras/default/1/nasdaq100/NASDAQ100_T_3_his_15_P_15/sub_model_data/sub_model_data/stockrnn-basic-model-n7/models/2022-12-31_epochs_14/GCNGRU.weights.h5\n",
      "\u001b[1m8/8\u001b[0m \u001b[32m━━━━━━━━━━━━━━━━━━━━\u001b[0m\u001b[37m\u001b[0m \u001b[1m3s\u001b[0m 292ms/step\n",
      "pred_list_len :  250\n",
      "/kaggle/input/bmp/keras/default/1/nasdaq100/NASDAQ100_T_3_his_15_P_15/sub_model_data/sub_model_data/stockrnn-basic-model-n7/models/2022-12-31_epochs_15/GCNGRU.weights.h5\n",
      "\u001b[1m8/8\u001b[0m \u001b[32m━━━━━━━━━━━━━━━━━━━━\u001b[0m\u001b[37m\u001b[0m \u001b[1m4s\u001b[0m 293ms/step\n",
      "pred_list_len :  250\n"
     ]
    },
    {
     "name": "stderr",
     "output_type": "stream",
     "text": [
      "  1%|          | 2/250 [00:00<00:15, 15.75it/s]"
     ]
    },
    {
     "name": "stdout",
     "output_type": "stream",
     "text": [
      "calculate last prediction data in 2023-01-03.csv\n",
      "calculate last prediction data in 2023-01-04.csv\n",
      "calculate last prediction data in 2023-01-05.csv\n",
      "calculate last prediction data in 2023-01-06.csv\n"
     ]
    },
    {
     "name": "stderr",
     "output_type": "stream",
     "text": [
      "  2%|▏         | 6/250 [00:00<00:15, 15.68it/s]"
     ]
    },
    {
     "name": "stdout",
     "output_type": "stream",
     "text": [
      "calculate last prediction data in 2023-01-09.csv\n",
      "calculate last prediction data in 2023-01-10.csv\n",
      "calculate last prediction data in 2023-01-11.csv\n",
      "calculate last prediction data in 2023-01-12.csv\n"
     ]
    },
    {
     "name": "stderr",
     "output_type": "stream",
     "text": [
      "  4%|▍         | 10/250 [00:00<00:15, 15.28it/s]"
     ]
    },
    {
     "name": "stdout",
     "output_type": "stream",
     "text": [
      "calculate last prediction data in 2023-01-13.csv\n",
      "calculate last prediction data in 2023-01-17.csv\n",
      "calculate last prediction data in 2023-01-18.csv\n",
      "calculate last prediction data in 2023-01-19.csv\n"
     ]
    },
    {
     "name": "stderr",
     "output_type": "stream",
     "text": [
      "  6%|▌         | 14/250 [00:00<00:15, 15.09it/s]"
     ]
    },
    {
     "name": "stdout",
     "output_type": "stream",
     "text": [
      "calculate last prediction data in 2023-01-20.csv\n",
      "calculate last prediction data in 2023-01-23.csv\n",
      "calculate last prediction data in 2023-01-24.csv\n",
      "calculate last prediction data in 2023-01-25.csv\n"
     ]
    },
    {
     "name": "stderr",
     "output_type": "stream",
     "text": [
      "  7%|▋         | 18/250 [00:01<00:15, 15.11it/s]"
     ]
    },
    {
     "name": "stdout",
     "output_type": "stream",
     "text": [
      "calculate last prediction data in 2023-01-26.csv\n",
      "calculate last prediction data in 2023-01-27.csv\n",
      "calculate last prediction data in 2023-01-30.csv\n"
     ]
    },
    {
     "name": "stderr",
     "output_type": "stream",
     "text": [
      "  8%|▊         | 20/250 [00:01<00:16, 14.33it/s]"
     ]
    },
    {
     "name": "stdout",
     "output_type": "stream",
     "text": [
      "calculate last prediction data in 2023-01-31.csv\n",
      "calculate last prediction data in 2023-02-01.csv\n",
      "calculate last prediction data in 2023-02-02.csv\n"
     ]
    },
    {
     "name": "stderr",
     "output_type": "stream",
     "text": [
      " 10%|▉         | 24/250 [00:01<00:15, 14.56it/s]"
     ]
    },
    {
     "name": "stdout",
     "output_type": "stream",
     "text": [
      "calculate last prediction data in 2023-02-03.csv\n",
      "calculate last prediction data in 2023-02-06.csv\n",
      "calculate last prediction data in 2023-02-07.csv\n"
     ]
    },
    {
     "name": "stderr",
     "output_type": "stream",
     "text": [
      " 11%|█         | 28/250 [00:01<00:14, 14.82it/s]"
     ]
    },
    {
     "name": "stdout",
     "output_type": "stream",
     "text": [
      "calculate last prediction data in 2023-02-08.csv\n",
      "calculate last prediction data in 2023-02-09.csv\n",
      "calculate last prediction data in 2023-02-10.csv\n",
      "calculate last prediction data in 2023-02-13.csv\n"
     ]
    },
    {
     "name": "stderr",
     "output_type": "stream",
     "text": [
      " 13%|█▎        | 32/250 [00:02<00:14, 15.01it/s]"
     ]
    },
    {
     "name": "stdout",
     "output_type": "stream",
     "text": [
      "calculate last prediction data in 2023-02-14.csv\n",
      "calculate last prediction data in 2023-02-15.csv\n",
      "calculate last prediction data in 2023-02-16.csv\n",
      "calculate last prediction data in 2023-02-17.csv\n"
     ]
    },
    {
     "name": "stderr",
     "output_type": "stream",
     "text": [
      " 14%|█▍        | 36/250 [00:02<00:14, 15.13it/s]"
     ]
    },
    {
     "name": "stdout",
     "output_type": "stream",
     "text": [
      "calculate last prediction data in 2023-02-21.csv\n",
      "calculate last prediction data in 2023-02-22.csv\n",
      "calculate last prediction data in 2023-02-23.csv\n",
      "calculate last prediction data in 2023-02-24.csv\n"
     ]
    },
    {
     "name": "stderr",
     "output_type": "stream",
     "text": [
      " 16%|█▌        | 40/250 [00:02<00:13, 15.18it/s]"
     ]
    },
    {
     "name": "stdout",
     "output_type": "stream",
     "text": [
      "calculate last prediction data in 2023-02-27.csv\n",
      "calculate last prediction data in 2023-02-28.csv\n",
      "calculate last prediction data in 2023-03-01.csv\n",
      "calculate last prediction data in 2023-03-02.csv\n"
     ]
    },
    {
     "name": "stderr",
     "output_type": "stream",
     "text": [
      " 18%|█▊        | 44/250 [00:02<00:13, 15.28it/s]"
     ]
    },
    {
     "name": "stdout",
     "output_type": "stream",
     "text": [
      "calculate last prediction data in 2023-03-03.csv\n",
      "calculate last prediction data in 2023-03-06.csv\n",
      "calculate last prediction data in 2023-03-07.csv\n",
      "calculate last prediction data in 2023-03-08.csv\n"
     ]
    },
    {
     "name": "stderr",
     "output_type": "stream",
     "text": [
      " 19%|█▉        | 48/250 [00:03<00:13, 15.41it/s]"
     ]
    },
    {
     "name": "stdout",
     "output_type": "stream",
     "text": [
      "calculate last prediction data in 2023-03-09.csv\n",
      "calculate last prediction data in 2023-03-10.csv\n",
      "calculate last prediction data in 2023-03-13.csv\n",
      "calculate last prediction data in 2023-03-14.csv\n"
     ]
    },
    {
     "name": "stderr",
     "output_type": "stream",
     "text": [
      " 21%|██        | 52/250 [00:03<00:12, 15.24it/s]"
     ]
    },
    {
     "name": "stdout",
     "output_type": "stream",
     "text": [
      "calculate last prediction data in 2023-03-15.csv\n",
      "calculate last prediction data in 2023-03-16.csv\n",
      "calculate last prediction data in 2023-03-17.csv\n",
      "calculate last prediction data in 2023-03-20.csv\n"
     ]
    },
    {
     "name": "stderr",
     "output_type": "stream",
     "text": [
      " 22%|██▏       | 54/250 [00:03<00:12, 15.15it/s]"
     ]
    },
    {
     "name": "stdout",
     "output_type": "stream",
     "text": [
      "calculate last prediction data in 2023-03-21.csv\n",
      "calculate last prediction data in 2023-03-22.csv\n",
      "calculate last prediction data in 2023-03-23.csv\n"
     ]
    },
    {
     "name": "stderr",
     "output_type": "stream",
     "text": [
      " 23%|██▎       | 58/250 [00:03<00:12, 14.87it/s]"
     ]
    },
    {
     "name": "stdout",
     "output_type": "stream",
     "text": [
      "calculate last prediction data in 2023-03-24.csv\n",
      "calculate last prediction data in 2023-03-27.csv\n",
      "calculate last prediction data in 2023-03-28.csv\n"
     ]
    },
    {
     "name": "stderr",
     "output_type": "stream",
     "text": [
      " 25%|██▍       | 62/250 [00:04<00:12, 14.99it/s]"
     ]
    },
    {
     "name": "stdout",
     "output_type": "stream",
     "text": [
      "calculate last prediction data in 2023-03-29.csv\n",
      "calculate last prediction data in 2023-03-30.csv\n",
      "calculate last prediction data in 2023-03-31.csv\n",
      "calculate last prediction data in 2023-04-03.csv\n"
     ]
    },
    {
     "name": "stderr",
     "output_type": "stream",
     "text": [
      " 26%|██▋       | 66/250 [00:04<00:12, 15.31it/s]"
     ]
    },
    {
     "name": "stdout",
     "output_type": "stream",
     "text": [
      "calculate last prediction data in 2023-04-04.csv\n",
      "calculate last prediction data in 2023-04-05.csv\n",
      "calculate last prediction data in 2023-04-06.csv\n",
      "calculate last prediction data in 2023-04-10.csv\n"
     ]
    },
    {
     "name": "stderr",
     "output_type": "stream",
     "text": [
      " 28%|██▊       | 70/250 [00:04<00:11, 15.39it/s]"
     ]
    },
    {
     "name": "stdout",
     "output_type": "stream",
     "text": [
      "calculate last prediction data in 2023-04-11.csv\n",
      "calculate last prediction data in 2023-04-12.csv\n",
      "calculate last prediction data in 2023-04-13.csv\n",
      "calculate last prediction data in 2023-04-14.csv\n"
     ]
    },
    {
     "name": "stderr",
     "output_type": "stream",
     "text": [
      " 29%|██▉       | 72/250 [00:04<00:11, 15.10it/s]"
     ]
    },
    {
     "name": "stdout",
     "output_type": "stream",
     "text": [
      "calculate last prediction data in 2023-04-17.csv\n",
      "calculate last prediction data in 2023-04-18.csv\n",
      "calculate last prediction data in 2023-04-19.csv\n"
     ]
    },
    {
     "name": "stderr",
     "output_type": "stream",
     "text": [
      " 30%|███       | 76/250 [00:05<00:11, 14.52it/s]"
     ]
    },
    {
     "name": "stdout",
     "output_type": "stream",
     "text": [
      "calculate last prediction data in 2023-04-20.csv\n",
      "calculate last prediction data in 2023-04-21.csv\n",
      "calculate last prediction data in 2023-04-24.csv\n",
      "calculate last prediction data in 2023-04-25.csv\n"
     ]
    },
    {
     "name": "stderr",
     "output_type": "stream",
     "text": [
      " 32%|███▏      | 80/250 [00:05<00:11, 15.17it/s]"
     ]
    },
    {
     "name": "stdout",
     "output_type": "stream",
     "text": [
      "calculate last prediction data in 2023-04-26.csv\n",
      "calculate last prediction data in 2023-04-27.csv\n",
      "calculate last prediction data in 2023-04-28.csv\n",
      "calculate last prediction data in 2023-05-01.csv\n"
     ]
    },
    {
     "name": "stderr",
     "output_type": "stream",
     "text": [
      " 34%|███▎      | 84/250 [00:05<00:10, 15.36it/s]"
     ]
    },
    {
     "name": "stdout",
     "output_type": "stream",
     "text": [
      "calculate last prediction data in 2023-05-02.csv\n",
      "calculate last prediction data in 2023-05-03.csv\n",
      "calculate last prediction data in 2023-05-04.csv\n",
      "calculate last prediction data in 2023-05-05.csv\n"
     ]
    },
    {
     "name": "stderr",
     "output_type": "stream",
     "text": [
      " 35%|███▌      | 88/250 [00:05<00:10, 15.58it/s]"
     ]
    },
    {
     "name": "stdout",
     "output_type": "stream",
     "text": [
      "calculate last prediction data in 2023-05-08.csv\n",
      "calculate last prediction data in 2023-05-09.csv\n",
      "calculate last prediction data in 2023-05-10.csv\n",
      "calculate last prediction data in 2023-05-11.csv\n"
     ]
    },
    {
     "name": "stderr",
     "output_type": "stream",
     "text": [
      " 37%|███▋      | 92/250 [00:06<00:10, 15.72it/s]"
     ]
    },
    {
     "name": "stdout",
     "output_type": "stream",
     "text": [
      "calculate last prediction data in 2023-05-12.csv\n",
      "calculate last prediction data in 2023-05-15.csv\n",
      "calculate last prediction data in 2023-05-16.csv\n",
      "calculate last prediction data in 2023-05-17.csv\n"
     ]
    },
    {
     "name": "stderr",
     "output_type": "stream",
     "text": [
      " 38%|███▊      | 96/250 [00:06<00:09, 15.43it/s]"
     ]
    },
    {
     "name": "stdout",
     "output_type": "stream",
     "text": [
      "calculate last prediction data in 2023-05-18.csv\n",
      "calculate last prediction data in 2023-05-19.csv\n",
      "calculate last prediction data in 2023-05-22.csv\n",
      "calculate last prediction data in 2023-05-23.csv\n"
     ]
    },
    {
     "name": "stderr",
     "output_type": "stream",
     "text": [
      " 40%|████      | 100/250 [00:06<00:09, 15.17it/s]"
     ]
    },
    {
     "name": "stdout",
     "output_type": "stream",
     "text": [
      "calculate last prediction data in 2023-05-24.csv\n",
      "calculate last prediction data in 2023-05-25.csv\n",
      "calculate last prediction data in 2023-05-26.csv\n"
     ]
    },
    {
     "name": "stderr",
     "output_type": "stream",
     "text": [
      " 41%|████      | 102/250 [00:06<00:09, 15.05it/s]"
     ]
    },
    {
     "name": "stdout",
     "output_type": "stream",
     "text": [
      "calculate last prediction data in 2023-05-30.csv\n",
      "calculate last prediction data in 2023-05-31.csv\n",
      "calculate last prediction data in 2023-06-01.csv\n"
     ]
    },
    {
     "name": "stderr",
     "output_type": "stream",
     "text": [
      " 42%|████▏     | 106/250 [00:07<00:09, 14.96it/s]"
     ]
    },
    {
     "name": "stdout",
     "output_type": "stream",
     "text": [
      "calculate last prediction data in 2023-06-02.csv\n",
      "calculate last prediction data in 2023-06-05.csv\n",
      "calculate last prediction data in 2023-06-06.csv\n",
      "calculate last prediction data in 2023-06-07.csv\n"
     ]
    },
    {
     "name": "stderr",
     "output_type": "stream",
     "text": [
      " 44%|████▍     | 110/250 [00:07<00:09, 15.37it/s]"
     ]
    },
    {
     "name": "stdout",
     "output_type": "stream",
     "text": [
      "calculate last prediction data in 2023-06-08.csv\n",
      "calculate last prediction data in 2023-06-09.csv\n",
      "calculate last prediction data in 2023-06-12.csv\n",
      "calculate last prediction data in 2023-06-13.csv\n"
     ]
    },
    {
     "name": "stderr",
     "output_type": "stream",
     "text": [
      " 46%|████▌     | 114/250 [00:07<00:08, 15.69it/s]"
     ]
    },
    {
     "name": "stdout",
     "output_type": "stream",
     "text": [
      "calculate last prediction data in 2023-06-14.csv\n",
      "calculate last prediction data in 2023-06-15.csv\n",
      "calculate last prediction data in 2023-06-16.csv\n",
      "calculate last prediction data in 2023-06-20.csv\n"
     ]
    },
    {
     "name": "stderr",
     "output_type": "stream",
     "text": [
      " 47%|████▋     | 118/250 [00:07<00:08, 15.65it/s]"
     ]
    },
    {
     "name": "stdout",
     "output_type": "stream",
     "text": [
      "calculate last prediction data in 2023-06-21.csv\n",
      "calculate last prediction data in 2023-06-22.csv\n",
      "calculate last prediction data in 2023-06-23.csv\n",
      "calculate last prediction data in 2023-06-26.csv\n"
     ]
    },
    {
     "name": "stderr",
     "output_type": "stream",
     "text": [
      " 49%|████▉     | 122/250 [00:08<00:08, 15.55it/s]"
     ]
    },
    {
     "name": "stdout",
     "output_type": "stream",
     "text": [
      "calculate last prediction data in 2023-06-27.csv\n",
      "calculate last prediction data in 2023-06-28.csv\n",
      "calculate last prediction data in 2023-06-29.csv\n",
      "calculate last prediction data in 2023-06-30.csv\n"
     ]
    },
    {
     "name": "stderr",
     "output_type": "stream",
     "text": [
      " 50%|█████     | 126/250 [00:08<00:07, 15.66it/s]"
     ]
    },
    {
     "name": "stdout",
     "output_type": "stream",
     "text": [
      "calculate last prediction data in 2023-07-03.csv\n",
      "calculate last prediction data in 2023-07-05.csv\n",
      "calculate last prediction data in 2023-07-06.csv\n",
      "calculate last prediction data in 2023-07-07.csv\n"
     ]
    },
    {
     "name": "stderr",
     "output_type": "stream",
     "text": [
      " 52%|█████▏    | 130/250 [00:08<00:07, 15.73it/s]"
     ]
    },
    {
     "name": "stdout",
     "output_type": "stream",
     "text": [
      "calculate last prediction data in 2023-07-10.csv\n",
      "calculate last prediction data in 2023-07-11.csv\n",
      "calculate last prediction data in 2023-07-12.csv\n",
      "calculate last prediction data in 2023-07-13.csv\n"
     ]
    },
    {
     "name": "stderr",
     "output_type": "stream",
     "text": [
      " 54%|█████▎    | 134/250 [00:08<00:07, 15.59it/s]"
     ]
    },
    {
     "name": "stdout",
     "output_type": "stream",
     "text": [
      "calculate last prediction data in 2023-07-14.csv\n",
      "calculate last prediction data in 2023-07-17.csv\n",
      "calculate last prediction data in 2023-07-18.csv\n",
      "calculate last prediction data in 2023-07-19.csv\n"
     ]
    },
    {
     "name": "stderr",
     "output_type": "stream",
     "text": [
      " 55%|█████▌    | 138/250 [00:09<00:07, 15.55it/s]"
     ]
    },
    {
     "name": "stdout",
     "output_type": "stream",
     "text": [
      "calculate last prediction data in 2023-07-20.csv\n",
      "calculate last prediction data in 2023-07-21.csv\n",
      "calculate last prediction data in 2023-07-24.csv\n",
      "calculate last prediction data in 2023-07-25.csv\n"
     ]
    },
    {
     "name": "stderr",
     "output_type": "stream",
     "text": [
      " 57%|█████▋    | 142/250 [00:09<00:06, 15.73it/s]"
     ]
    },
    {
     "name": "stdout",
     "output_type": "stream",
     "text": [
      "calculate last prediction data in 2023-07-26.csv\n",
      "calculate last prediction data in 2023-07-27.csv\n",
      "calculate last prediction data in 2023-07-28.csv\n",
      "calculate last prediction data in 2023-07-31.csv\n"
     ]
    },
    {
     "name": "stderr",
     "output_type": "stream",
     "text": [
      " 58%|█████▊    | 146/250 [00:09<00:06, 15.75it/s]"
     ]
    },
    {
     "name": "stdout",
     "output_type": "stream",
     "text": [
      "calculate last prediction data in 2023-08-01.csv\n",
      "calculate last prediction data in 2023-08-02.csv\n",
      "calculate last prediction data in 2023-08-03.csv\n",
      "calculate last prediction data in 2023-08-04.csv\n"
     ]
    },
    {
     "name": "stderr",
     "output_type": "stream",
     "text": [
      " 60%|██████    | 150/250 [00:09<00:06, 15.57it/s]"
     ]
    },
    {
     "name": "stdout",
     "output_type": "stream",
     "text": [
      "calculate last prediction data in 2023-08-07.csv\n",
      "calculate last prediction data in 2023-08-08.csv\n",
      "calculate last prediction data in 2023-08-09.csv\n",
      "calculate last prediction data in 2023-08-10.csv\n"
     ]
    },
    {
     "name": "stderr",
     "output_type": "stream",
     "text": [
      " 62%|██████▏   | 154/250 [00:10<00:06, 15.78it/s]"
     ]
    },
    {
     "name": "stdout",
     "output_type": "stream",
     "text": [
      "calculate last prediction data in 2023-08-11.csv\n",
      "calculate last prediction data in 2023-08-14.csv\n",
      "calculate last prediction data in 2023-08-15.csv\n",
      "calculate last prediction data in 2023-08-16.csv\n"
     ]
    },
    {
     "name": "stderr",
     "output_type": "stream",
     "text": [
      " 63%|██████▎   | 158/250 [00:10<00:05, 15.83it/s]"
     ]
    },
    {
     "name": "stdout",
     "output_type": "stream",
     "text": [
      "calculate last prediction data in 2023-08-17.csv\n",
      "calculate last prediction data in 2023-08-18.csv\n",
      "calculate last prediction data in 2023-08-21.csv\n",
      "calculate last prediction data in 2023-08-22.csv\n"
     ]
    },
    {
     "name": "stderr",
     "output_type": "stream",
     "text": [
      " 65%|██████▍   | 162/250 [00:10<00:05, 15.72it/s]"
     ]
    },
    {
     "name": "stdout",
     "output_type": "stream",
     "text": [
      "calculate last prediction data in 2023-08-23.csv\n",
      "calculate last prediction data in 2023-08-24.csv\n",
      "calculate last prediction data in 2023-08-25.csv\n",
      "calculate last prediction data in 2023-08-28.csv\n"
     ]
    },
    {
     "name": "stderr",
     "output_type": "stream",
     "text": [
      " 66%|██████▋   | 166/250 [00:10<00:05, 15.32it/s]"
     ]
    },
    {
     "name": "stdout",
     "output_type": "stream",
     "text": [
      "calculate last prediction data in 2023-08-29.csv\n",
      "calculate last prediction data in 2023-08-30.csv\n",
      "calculate last prediction data in 2023-08-31.csv\n",
      "calculate last prediction data in 2023-09-01.csv\n"
     ]
    },
    {
     "name": "stderr",
     "output_type": "stream",
     "text": [
      " 68%|██████▊   | 170/250 [00:11<00:05, 15.38it/s]"
     ]
    },
    {
     "name": "stdout",
     "output_type": "stream",
     "text": [
      "calculate last prediction data in 2023-09-05.csv\n",
      "calculate last prediction data in 2023-09-06.csv\n",
      "calculate last prediction data in 2023-09-07.csv\n",
      "calculate last prediction data in 2023-09-08.csv\n"
     ]
    },
    {
     "name": "stderr",
     "output_type": "stream",
     "text": [
      " 70%|██████▉   | 174/250 [00:11<00:04, 15.49it/s]"
     ]
    },
    {
     "name": "stdout",
     "output_type": "stream",
     "text": [
      "calculate last prediction data in 2023-09-11.csv\n",
      "calculate last prediction data in 2023-09-12.csv\n",
      "calculate last prediction data in 2023-09-13.csv\n",
      "calculate last prediction data in 2023-09-14.csv\n"
     ]
    },
    {
     "name": "stderr",
     "output_type": "stream",
     "text": [
      " 71%|███████   | 178/250 [00:11<00:04, 15.67it/s]"
     ]
    },
    {
     "name": "stdout",
     "output_type": "stream",
     "text": [
      "calculate last prediction data in 2023-09-15.csv\n",
      "calculate last prediction data in 2023-09-18.csv\n",
      "calculate last prediction data in 2023-09-19.csv\n",
      "calculate last prediction data in 2023-09-20.csv\n"
     ]
    },
    {
     "name": "stderr",
     "output_type": "stream",
     "text": [
      " 73%|███████▎  | 182/250 [00:11<00:04, 15.90it/s]"
     ]
    },
    {
     "name": "stdout",
     "output_type": "stream",
     "text": [
      "calculate last prediction data in 2023-09-21.csv\n",
      "calculate last prediction data in 2023-09-22.csv\n",
      "calculate last prediction data in 2023-09-25.csv\n",
      "calculate last prediction data in 2023-09-26.csv\n"
     ]
    },
    {
     "name": "stderr",
     "output_type": "stream",
     "text": [
      " 74%|███████▍  | 186/250 [00:12<00:04, 15.97it/s]"
     ]
    },
    {
     "name": "stdout",
     "output_type": "stream",
     "text": [
      "calculate last prediction data in 2023-09-27.csv\n",
      "calculate last prediction data in 2023-09-28.csv\n",
      "calculate last prediction data in 2023-09-29.csv\n",
      "calculate last prediction data in 2023-10-02.csv\n"
     ]
    },
    {
     "name": "stderr",
     "output_type": "stream",
     "text": [
      " 76%|███████▌  | 190/250 [00:12<00:03, 15.98it/s]"
     ]
    },
    {
     "name": "stdout",
     "output_type": "stream",
     "text": [
      "calculate last prediction data in 2023-10-03.csv\n",
      "calculate last prediction data in 2023-10-04.csv\n",
      "calculate last prediction data in 2023-10-05.csv\n",
      "calculate last prediction data in 2023-10-06.csv\n"
     ]
    },
    {
     "name": "stderr",
     "output_type": "stream",
     "text": [
      " 78%|███████▊  | 194/250 [00:12<00:03, 15.78it/s]"
     ]
    },
    {
     "name": "stdout",
     "output_type": "stream",
     "text": [
      "calculate last prediction data in 2023-10-09.csv\n",
      "calculate last prediction data in 2023-10-10.csv\n",
      "calculate last prediction data in 2023-10-11.csv\n",
      "calculate last prediction data in 2023-10-12.csv\n"
     ]
    },
    {
     "name": "stderr",
     "output_type": "stream",
     "text": [
      " 79%|███████▉  | 198/250 [00:12<00:03, 15.56it/s]"
     ]
    },
    {
     "name": "stdout",
     "output_type": "stream",
     "text": [
      "calculate last prediction data in 2023-10-13.csv\n",
      "calculate last prediction data in 2023-10-16.csv\n",
      "calculate last prediction data in 2023-10-17.csv\n",
      "calculate last prediction data in 2023-10-18.csv\n"
     ]
    },
    {
     "name": "stderr",
     "output_type": "stream",
     "text": [
      " 81%|████████  | 202/250 [00:13<00:03, 15.58it/s]"
     ]
    },
    {
     "name": "stdout",
     "output_type": "stream",
     "text": [
      "calculate last prediction data in 2023-10-19.csv\n",
      "calculate last prediction data in 2023-10-20.csv\n",
      "calculate last prediction data in 2023-10-23.csv\n",
      "calculate last prediction data in 2023-10-24.csv\n"
     ]
    },
    {
     "name": "stderr",
     "output_type": "stream",
     "text": [
      " 82%|████████▏ | 206/250 [00:13<00:02, 15.60it/s]"
     ]
    },
    {
     "name": "stdout",
     "output_type": "stream",
     "text": [
      "calculate last prediction data in 2023-10-25.csv\n",
      "calculate last prediction data in 2023-10-26.csv\n",
      "calculate last prediction data in 2023-10-27.csv\n",
      "calculate last prediction data in 2023-10-30.csv\n"
     ]
    },
    {
     "name": "stderr",
     "output_type": "stream",
     "text": [
      " 84%|████████▍ | 210/250 [00:13<00:02, 15.58it/s]"
     ]
    },
    {
     "name": "stdout",
     "output_type": "stream",
     "text": [
      "calculate last prediction data in 2023-10-31.csv\n",
      "calculate last prediction data in 2023-11-01.csv\n",
      "calculate last prediction data in 2023-11-02.csv\n",
      "calculate last prediction data in 2023-11-03.csv\n"
     ]
    },
    {
     "name": "stderr",
     "output_type": "stream",
     "text": [
      " 86%|████████▌ | 214/250 [00:13<00:02, 15.37it/s]"
     ]
    },
    {
     "name": "stdout",
     "output_type": "stream",
     "text": [
      "calculate last prediction data in 2023-11-06.csv\n",
      "calculate last prediction data in 2023-11-07.csv\n",
      "calculate last prediction data in 2023-11-08.csv\n",
      "calculate last prediction data in 2023-11-09.csv\n"
     ]
    },
    {
     "name": "stderr",
     "output_type": "stream",
     "text": [
      " 87%|████████▋ | 218/250 [00:14<00:02, 15.53it/s]"
     ]
    },
    {
     "name": "stdout",
     "output_type": "stream",
     "text": [
      "calculate last prediction data in 2023-11-10.csv\n",
      "calculate last prediction data in 2023-11-13.csv\n",
      "calculate last prediction data in 2023-11-14.csv\n",
      "calculate last prediction data in 2023-11-15.csv\n"
     ]
    },
    {
     "name": "stderr",
     "output_type": "stream",
     "text": [
      " 89%|████████▉ | 222/250 [00:14<00:01, 15.54it/s]"
     ]
    },
    {
     "name": "stdout",
     "output_type": "stream",
     "text": [
      "calculate last prediction data in 2023-11-16.csv\n",
      "calculate last prediction data in 2023-11-17.csv\n",
      "calculate last prediction data in 2023-11-20.csv\n",
      "calculate last prediction data in 2023-11-21.csv\n"
     ]
    },
    {
     "name": "stderr",
     "output_type": "stream",
     "text": [
      " 90%|█████████ | 226/250 [00:14<00:01, 15.13it/s]"
     ]
    },
    {
     "name": "stdout",
     "output_type": "stream",
     "text": [
      "calculate last prediction data in 2023-11-22.csv\n",
      "calculate last prediction data in 2023-11-24.csv\n",
      "calculate last prediction data in 2023-11-27.csv\n"
     ]
    },
    {
     "name": "stderr",
     "output_type": "stream",
     "text": [
      " 91%|█████████ | 228/250 [00:14<00:01, 14.41it/s]"
     ]
    },
    {
     "name": "stdout",
     "output_type": "stream",
     "text": [
      "calculate last prediction data in 2023-11-28.csv\n",
      "calculate last prediction data in 2023-11-29.csv\n",
      "calculate last prediction data in 2023-11-30.csv\n"
     ]
    },
    {
     "name": "stderr",
     "output_type": "stream",
     "text": [
      " 93%|█████████▎| 232/250 [00:15<00:01, 14.66it/s]"
     ]
    },
    {
     "name": "stdout",
     "output_type": "stream",
     "text": [
      "calculate last prediction data in 2023-12-01.csv\n",
      "calculate last prediction data in 2023-12-04.csv\n",
      "calculate last prediction data in 2023-12-05.csv\n",
      "calculate last prediction data in 2023-12-06.csv\n"
     ]
    },
    {
     "name": "stderr",
     "output_type": "stream",
     "text": [
      " 94%|█████████▍| 236/250 [00:15<00:00, 14.89it/s]"
     ]
    },
    {
     "name": "stdout",
     "output_type": "stream",
     "text": [
      "calculate last prediction data in 2023-12-07.csv\n",
      "calculate last prediction data in 2023-12-08.csv\n",
      "calculate last prediction data in 2023-12-11.csv\n",
      "calculate last prediction data in 2023-12-12.csv\n"
     ]
    },
    {
     "name": "stderr",
     "output_type": "stream",
     "text": [
      " 96%|█████████▌| 240/250 [00:15<00:00, 15.28it/s]"
     ]
    },
    {
     "name": "stdout",
     "output_type": "stream",
     "text": [
      "calculate last prediction data in 2023-12-13.csv\n",
      "calculate last prediction data in 2023-12-14.csv\n",
      "calculate last prediction data in 2023-12-15.csv\n",
      "calculate last prediction data in 2023-12-18.csv\n"
     ]
    },
    {
     "name": "stderr",
     "output_type": "stream",
     "text": [
      " 98%|█████████▊| 244/250 [00:15<00:00, 15.47it/s]"
     ]
    },
    {
     "name": "stdout",
     "output_type": "stream",
     "text": [
      "calculate last prediction data in 2023-12-19.csv\n",
      "calculate last prediction data in 2023-12-20.csv\n",
      "calculate last prediction data in 2023-12-21.csv\n",
      "calculate last prediction data in 2023-12-22.csv\n"
     ]
    },
    {
     "name": "stderr",
     "output_type": "stream",
     "text": [
      " 99%|█████████▉| 248/250 [00:16<00:00, 15.38it/s]"
     ]
    },
    {
     "name": "stdout",
     "output_type": "stream",
     "text": [
      "calculate last prediction data in 2023-12-26.csv\n",
      "calculate last prediction data in 2023-12-27.csv\n",
      "calculate last prediction data in 2023-12-28.csv\n",
      "calculate last prediction data in 2023-12-29.csv\n"
     ]
    },
    {
     "name": "stderr",
     "output_type": "stream",
     "text": [
      "100%|██████████| 250/250 [00:16<00:00, 15.34it/s]\n"
     ]
    }
   ],
   "source": [
    "T = 3\n",
    "P = 15\n",
    "train_his = 15\n",
    "data_choose = \"NASDAQ100\"\n",
    "root_data_path = (\n",
    "    data_choose + \"_T_\" + str(T) + \"_his_\" + str(train_his) + \"_P_\" + str(P)\n",
    ")\n",
    "print(\"root_data_path为:\", root_data_path)\n",
    "model_data_path = (\n",
    "    data_choose + \"_T_\" + str(T) + \"_his_\" + str(train_his) + \"_P_\" + str(P)\n",
    ")\n",
    "print(\"model_data_path为:\", model_data_path)\n",
    "epoches_list = [5, 6, 8, 10, 12, 13, 14, 15]\n",
    "number_of_models = [0, 8]\n",
    "fun_last(\n",
    "    root_data_path, T, train_his, epoches_list, P, number_of_models, model_data_path\n",
    ")"
   ]
  },
  {
   "cell_type": "code",
   "execution_count": 9,
   "id": "83f139d3",
   "metadata": {
    "execution": {
     "iopub.execute_input": "2024-11-12T10:53:08.554306Z",
     "iopub.status.busy": "2024-11-12T10:53:08.553266Z",
     "iopub.status.idle": "2024-11-12T10:53:08.558511Z",
     "shell.execute_reply": "2024-11-12T10:53:08.557440Z"
    },
    "papermill": {
     "duration": 0.107103,
     "end_time": "2024-11-12T10:53:08.560675",
     "exception": false,
     "start_time": "2024-11-12T10:53:08.453572",
     "status": "completed"
    },
    "tags": []
   },
   "outputs": [],
   "source": [
    "# import pandas as pd\n",
    "# import os\n",
    "# df = pd.read_csv(\"/kaggle/input/dataset/nd100_2018_2023_new_1.csv\")\n",
    "# dg = pd.read_csv(\"/kaggle/input/dataset/nd100_2018_2023_trimmed.csv\")\n",
    "\n",
    "# df.head()\n",
    "# df.to_csv(\"/kaggle/working/testdataset/nd100_2018_2023_new_1.csv\")\n",
    "# dg.to_csv(\"/kaggle/working/testdataset/nd100_2018_2023_trimmed.csv\")\n",
    "\n"
   ]
  }
 ],
 "metadata": {
  "kaggle": {
   "accelerator": "none",
   "dataSources": [
    {
     "datasetId": 6023191,
     "sourceId": 9823004,
     "sourceType": "datasetVersion"
    },
    {
     "isSourceIdPinned": true,
     "modelId": 161914,
     "modelInstanceId": 139285,
     "sourceId": 163756,
     "sourceType": "modelInstanceVersion"
    }
   ],
   "dockerImageVersionId": 30786,
   "isGpuEnabled": false,
   "isInternetEnabled": false,
   "language": "python",
   "sourceType": "notebook"
  },
  "kernelspec": {
   "display_name": "Python 3",
   "language": "python",
   "name": "python3"
  },
  "language_info": {
   "codemirror_mode": {
    "name": "ipython",
    "version": 3
   },
   "file_extension": ".py",
   "mimetype": "text/x-python",
   "name": "python",
   "nbconvert_exporter": "python",
   "pygments_lexer": "ipython3",
   "version": "3.10.14"
  },
  "papermill": {
   "default_parameters": {},
   "duration": 482.558917,
   "end_time": "2024-11-12T10:53:10.283991",
   "environment_variables": {},
   "exception": null,
   "input_path": "__notebook__.ipynb",
   "output_path": "__notebook__.ipynb",
   "parameters": {},
   "start_time": "2024-11-12T10:45:07.725074",
   "version": "2.6.0"
  }
 },
 "nbformat": 4,
 "nbformat_minor": 5
}
